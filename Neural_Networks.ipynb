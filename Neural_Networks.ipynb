{
  "nbformat": 4,
  "nbformat_minor": 0,
  "metadata": {
    "colab": {
      "provenance": []
    },
    "kernelspec": {
      "name": "python3",
      "display_name": "Python 3"
    },
    "language_info": {
      "name": "python"
    }
  },
  "cells": [
    {
      "cell_type": "code",
      "execution_count": 1,
      "metadata": {
        "colab": {
          "base_uri": "https://localhost:8080/"
        },
        "id": "mMArTBClGOor",
        "outputId": "ee5916e0-e80f-4ab6-cad0-7455633546e9"
      },
      "outputs": [
        {
          "output_type": "stream",
          "name": "stdout",
          "text": [
            "Mounted at /content/gdrive\n"
          ]
        }
      ],
      "source": [
        "from google.colab import drive\n",
        "drive.mount(\"/content/gdrive\")"
      ]
    },
    {
      "cell_type": "code",
      "source": [
        "!pip install keras==2.14"
      ],
      "metadata": {
        "colab": {
          "base_uri": "https://localhost:8080/"
        },
        "id": "R4mcJpGompPs",
        "outputId": "b731b93d-af8a-471a-882c-4d6bd1efb794"
      },
      "execution_count": 2,
      "outputs": [
        {
          "output_type": "stream",
          "name": "stdout",
          "text": [
            "Requirement already satisfied: keras==2.14 in /usr/local/lib/python3.10/dist-packages (2.14.0)\n"
          ]
        }
      ]
    },
    {
      "cell_type": "code",
      "source": [
        "!pip install patchify"
      ],
      "metadata": {
        "colab": {
          "base_uri": "https://localhost:8080/"
        },
        "id": "X2Bqq9uAm5Cb",
        "outputId": "2b346824-9257-432b-c29a-693715bf43b1"
      },
      "execution_count": 3,
      "outputs": [
        {
          "output_type": "stream",
          "name": "stdout",
          "text": [
            "Collecting patchify\n",
            "  Downloading patchify-0.2.3-py3-none-any.whl (6.6 kB)\n",
            "Requirement already satisfied: numpy<2,>=1 in /usr/local/lib/python3.10/dist-packages (from patchify) (1.23.5)\n",
            "Installing collected packages: patchify\n",
            "Successfully installed patchify-0.2.3\n"
          ]
        }
      ]
    },
    {
      "cell_type": "code",
      "source": [
        "!pip install segmentation_models"
      ],
      "metadata": {
        "colab": {
          "base_uri": "https://localhost:8080/"
        },
        "id": "gZwwwiZ7m9xX",
        "outputId": "9827d4be-8072-438d-9bd0-81fc8986c5bb"
      },
      "execution_count": 4,
      "outputs": [
        {
          "output_type": "stream",
          "name": "stdout",
          "text": [
            "Collecting segmentation_models\n",
            "  Downloading segmentation_models-1.0.1-py3-none-any.whl (33 kB)\n",
            "Collecting keras-applications<=1.0.8,>=1.0.7 (from segmentation_models)\n",
            "  Downloading Keras_Applications-1.0.8-py3-none-any.whl (50 kB)\n",
            "\u001b[?25l     \u001b[90m━━━━━━━━━━━━━━━━━━━━━━━━━━━━━━━━━━━━━━━━\u001b[0m \u001b[32m0.0/50.7 kB\u001b[0m \u001b[31m?\u001b[0m eta \u001b[36m-:--:--\u001b[0m\r\u001b[2K     \u001b[90m━━━━━━━━━━━━━━━━━━━━━━━━━━━━━━━━━━━━━━━━\u001b[0m \u001b[32m50.7/50.7 kB\u001b[0m \u001b[31m4.2 MB/s\u001b[0m eta \u001b[36m0:00:00\u001b[0m\n",
            "\u001b[?25hCollecting image-classifiers==1.0.0 (from segmentation_models)\n",
            "  Downloading image_classifiers-1.0.0-py3-none-any.whl (19 kB)\n",
            "Collecting efficientnet==1.0.0 (from segmentation_models)\n",
            "  Downloading efficientnet-1.0.0-py3-none-any.whl (17 kB)\n",
            "Requirement already satisfied: scikit-image in /usr/local/lib/python3.10/dist-packages (from efficientnet==1.0.0->segmentation_models) (0.19.3)\n",
            "Requirement already satisfied: numpy>=1.9.1 in /usr/local/lib/python3.10/dist-packages (from keras-applications<=1.0.8,>=1.0.7->segmentation_models) (1.23.5)\n",
            "Requirement already satisfied: h5py in /usr/local/lib/python3.10/dist-packages (from keras-applications<=1.0.8,>=1.0.7->segmentation_models) (3.9.0)\n",
            "Requirement already satisfied: scipy>=1.4.1 in /usr/local/lib/python3.10/dist-packages (from scikit-image->efficientnet==1.0.0->segmentation_models) (1.11.3)\n",
            "Requirement already satisfied: networkx>=2.2 in /usr/local/lib/python3.10/dist-packages (from scikit-image->efficientnet==1.0.0->segmentation_models) (3.2)\n",
            "Requirement already satisfied: pillow!=7.1.0,!=7.1.1,!=8.3.0,>=6.1.0 in /usr/local/lib/python3.10/dist-packages (from scikit-image->efficientnet==1.0.0->segmentation_models) (9.4.0)\n",
            "Requirement already satisfied: imageio>=2.4.1 in /usr/local/lib/python3.10/dist-packages (from scikit-image->efficientnet==1.0.0->segmentation_models) (2.31.6)\n",
            "Requirement already satisfied: tifffile>=2019.7.26 in /usr/local/lib/python3.10/dist-packages (from scikit-image->efficientnet==1.0.0->segmentation_models) (2023.9.26)\n",
            "Requirement already satisfied: PyWavelets>=1.1.1 in /usr/local/lib/python3.10/dist-packages (from scikit-image->efficientnet==1.0.0->segmentation_models) (1.4.1)\n",
            "Requirement already satisfied: packaging>=20.0 in /usr/local/lib/python3.10/dist-packages (from scikit-image->efficientnet==1.0.0->segmentation_models) (23.2)\n",
            "Installing collected packages: keras-applications, image-classifiers, efficientnet, segmentation_models\n",
            "Successfully installed efficientnet-1.0.0 image-classifiers-1.0.0 keras-applications-1.0.8 segmentation_models-1.0.1\n"
          ]
        }
      ]
    },
    {
      "cell_type": "code",
      "source": [
        "pip install tensorflow"
      ],
      "metadata": {
        "colab": {
          "base_uri": "https://localhost:8080/"
        },
        "id": "d60ZAn90n7k7",
        "outputId": "57f04fd2-6390-402d-a6da-f667d390779a"
      },
      "execution_count": 5,
      "outputs": [
        {
          "output_type": "stream",
          "name": "stdout",
          "text": [
            "Requirement already satisfied: tensorflow in /usr/local/lib/python3.10/dist-packages (2.14.0)\n",
            "Requirement already satisfied: absl-py>=1.0.0 in /usr/local/lib/python3.10/dist-packages (from tensorflow) (1.4.0)\n",
            "Requirement already satisfied: astunparse>=1.6.0 in /usr/local/lib/python3.10/dist-packages (from tensorflow) (1.6.3)\n",
            "Requirement already satisfied: flatbuffers>=23.5.26 in /usr/local/lib/python3.10/dist-packages (from tensorflow) (23.5.26)\n",
            "Requirement already satisfied: gast!=0.5.0,!=0.5.1,!=0.5.2,>=0.2.1 in /usr/local/lib/python3.10/dist-packages (from tensorflow) (0.5.4)\n",
            "Requirement already satisfied: google-pasta>=0.1.1 in /usr/local/lib/python3.10/dist-packages (from tensorflow) (0.2.0)\n",
            "Requirement already satisfied: h5py>=2.9.0 in /usr/local/lib/python3.10/dist-packages (from tensorflow) (3.9.0)\n",
            "Requirement already satisfied: libclang>=13.0.0 in /usr/local/lib/python3.10/dist-packages (from tensorflow) (16.0.6)\n",
            "Requirement already satisfied: ml-dtypes==0.2.0 in /usr/local/lib/python3.10/dist-packages (from tensorflow) (0.2.0)\n",
            "Requirement already satisfied: numpy>=1.23.5 in /usr/local/lib/python3.10/dist-packages (from tensorflow) (1.23.5)\n",
            "Requirement already satisfied: opt-einsum>=2.3.2 in /usr/local/lib/python3.10/dist-packages (from tensorflow) (3.3.0)\n",
            "Requirement already satisfied: packaging in /usr/local/lib/python3.10/dist-packages (from tensorflow) (23.2)\n",
            "Requirement already satisfied: protobuf!=4.21.0,!=4.21.1,!=4.21.2,!=4.21.3,!=4.21.4,!=4.21.5,<5.0.0dev,>=3.20.3 in /usr/local/lib/python3.10/dist-packages (from tensorflow) (3.20.3)\n",
            "Requirement already satisfied: setuptools in /usr/local/lib/python3.10/dist-packages (from tensorflow) (67.7.2)\n",
            "Requirement already satisfied: six>=1.12.0 in /usr/local/lib/python3.10/dist-packages (from tensorflow) (1.16.0)\n",
            "Requirement already satisfied: termcolor>=1.1.0 in /usr/local/lib/python3.10/dist-packages (from tensorflow) (2.3.0)\n",
            "Requirement already satisfied: typing-extensions>=3.6.6 in /usr/local/lib/python3.10/dist-packages (from tensorflow) (4.5.0)\n",
            "Requirement already satisfied: wrapt<1.15,>=1.11.0 in /usr/local/lib/python3.10/dist-packages (from tensorflow) (1.14.1)\n",
            "Requirement already satisfied: tensorflow-io-gcs-filesystem>=0.23.1 in /usr/local/lib/python3.10/dist-packages (from tensorflow) (0.34.0)\n",
            "Requirement already satisfied: grpcio<2.0,>=1.24.3 in /usr/local/lib/python3.10/dist-packages (from tensorflow) (1.59.0)\n",
            "Requirement already satisfied: tensorboard<2.15,>=2.14 in /usr/local/lib/python3.10/dist-packages (from tensorflow) (2.14.1)\n",
            "Requirement already satisfied: tensorflow-estimator<2.15,>=2.14.0 in /usr/local/lib/python3.10/dist-packages (from tensorflow) (2.14.0)\n",
            "Requirement already satisfied: keras<2.15,>=2.14.0 in /usr/local/lib/python3.10/dist-packages (from tensorflow) (2.14.0)\n",
            "Requirement already satisfied: wheel<1.0,>=0.23.0 in /usr/local/lib/python3.10/dist-packages (from astunparse>=1.6.0->tensorflow) (0.41.2)\n",
            "Requirement already satisfied: google-auth<3,>=1.6.3 in /usr/local/lib/python3.10/dist-packages (from tensorboard<2.15,>=2.14->tensorflow) (2.17.3)\n",
            "Requirement already satisfied: google-auth-oauthlib<1.1,>=0.5 in /usr/local/lib/python3.10/dist-packages (from tensorboard<2.15,>=2.14->tensorflow) (1.0.0)\n",
            "Requirement already satisfied: markdown>=2.6.8 in /usr/local/lib/python3.10/dist-packages (from tensorboard<2.15,>=2.14->tensorflow) (3.5)\n",
            "Requirement already satisfied: requests<3,>=2.21.0 in /usr/local/lib/python3.10/dist-packages (from tensorboard<2.15,>=2.14->tensorflow) (2.31.0)\n",
            "Requirement already satisfied: tensorboard-data-server<0.8.0,>=0.7.0 in /usr/local/lib/python3.10/dist-packages (from tensorboard<2.15,>=2.14->tensorflow) (0.7.2)\n",
            "Requirement already satisfied: werkzeug>=1.0.1 in /usr/local/lib/python3.10/dist-packages (from tensorboard<2.15,>=2.14->tensorflow) (3.0.1)\n",
            "Requirement already satisfied: cachetools<6.0,>=2.0.0 in /usr/local/lib/python3.10/dist-packages (from google-auth<3,>=1.6.3->tensorboard<2.15,>=2.14->tensorflow) (5.3.2)\n",
            "Requirement already satisfied: pyasn1-modules>=0.2.1 in /usr/local/lib/python3.10/dist-packages (from google-auth<3,>=1.6.3->tensorboard<2.15,>=2.14->tensorflow) (0.3.0)\n",
            "Requirement already satisfied: rsa<5,>=3.1.4 in /usr/local/lib/python3.10/dist-packages (from google-auth<3,>=1.6.3->tensorboard<2.15,>=2.14->tensorflow) (4.9)\n",
            "Requirement already satisfied: requests-oauthlib>=0.7.0 in /usr/local/lib/python3.10/dist-packages (from google-auth-oauthlib<1.1,>=0.5->tensorboard<2.15,>=2.14->tensorflow) (1.3.1)\n",
            "Requirement already satisfied: charset-normalizer<4,>=2 in /usr/local/lib/python3.10/dist-packages (from requests<3,>=2.21.0->tensorboard<2.15,>=2.14->tensorflow) (3.3.1)\n",
            "Requirement already satisfied: idna<4,>=2.5 in /usr/local/lib/python3.10/dist-packages (from requests<3,>=2.21.0->tensorboard<2.15,>=2.14->tensorflow) (3.4)\n",
            "Requirement already satisfied: urllib3<3,>=1.21.1 in /usr/local/lib/python3.10/dist-packages (from requests<3,>=2.21.0->tensorboard<2.15,>=2.14->tensorflow) (2.0.7)\n",
            "Requirement already satisfied: certifi>=2017.4.17 in /usr/local/lib/python3.10/dist-packages (from requests<3,>=2.21.0->tensorboard<2.15,>=2.14->tensorflow) (2023.7.22)\n",
            "Requirement already satisfied: MarkupSafe>=2.1.1 in /usr/local/lib/python3.10/dist-packages (from werkzeug>=1.0.1->tensorboard<2.15,>=2.14->tensorflow) (2.1.3)\n",
            "Requirement already satisfied: pyasn1<0.6.0,>=0.4.6 in /usr/local/lib/python3.10/dist-packages (from pyasn1-modules>=0.2.1->google-auth<3,>=1.6.3->tensorboard<2.15,>=2.14->tensorflow) (0.5.0)\n",
            "Requirement already satisfied: oauthlib>=3.0.0 in /usr/local/lib/python3.10/dist-packages (from requests-oauthlib>=0.7.0->google-auth-oauthlib<1.1,>=0.5->tensorboard<2.15,>=2.14->tensorflow) (3.2.2)\n"
          ]
        }
      ]
    },
    {
      "cell_type": "code",
      "source": [
        "!pip install scikeras"
      ],
      "metadata": {
        "colab": {
          "base_uri": "https://localhost:8080/"
        },
        "id": "gV5sYo_apC-E",
        "outputId": "6e9ce27c-3562-4f36-fac3-5cb555d651a0"
      },
      "execution_count": 6,
      "outputs": [
        {
          "output_type": "stream",
          "name": "stdout",
          "text": [
            "Collecting scikeras\n",
            "  Downloading scikeras-0.12.0-py3-none-any.whl (27 kB)\n",
            "Requirement already satisfied: packaging>=0.21 in /usr/local/lib/python3.10/dist-packages (from scikeras) (23.2)\n",
            "Requirement already satisfied: scikit-learn>=1.0.0 in /usr/local/lib/python3.10/dist-packages (from scikeras) (1.2.2)\n",
            "Requirement already satisfied: numpy>=1.17.3 in /usr/local/lib/python3.10/dist-packages (from scikit-learn>=1.0.0->scikeras) (1.23.5)\n",
            "Requirement already satisfied: scipy>=1.3.2 in /usr/local/lib/python3.10/dist-packages (from scikit-learn>=1.0.0->scikeras) (1.11.3)\n",
            "Requirement already satisfied: joblib>=1.1.1 in /usr/local/lib/python3.10/dist-packages (from scikit-learn>=1.0.0->scikeras) (1.3.2)\n",
            "Requirement already satisfied: threadpoolctl>=2.0.0 in /usr/local/lib/python3.10/dist-packages (from scikit-learn>=1.0.0->scikeras) (3.2.0)\n",
            "Installing collected packages: scikeras\n",
            "Successfully installed scikeras-0.12.0\n"
          ]
        }
      ]
    },
    {
      "cell_type": "code",
      "source": [
        "!pip install imblearn"
      ],
      "metadata": {
        "colab": {
          "base_uri": "https://localhost:8080/"
        },
        "id": "xL2nxyUymcsP",
        "outputId": "dd8b79a9-70a4-4be8-cdfa-fa885f07e32a"
      },
      "execution_count": 7,
      "outputs": [
        {
          "output_type": "stream",
          "name": "stdout",
          "text": [
            "Collecting imblearn\n",
            "  Downloading imblearn-0.0-py2.py3-none-any.whl (1.9 kB)\n",
            "Requirement already satisfied: imbalanced-learn in /usr/local/lib/python3.10/dist-packages (from imblearn) (0.10.1)\n",
            "Requirement already satisfied: numpy>=1.17.3 in /usr/local/lib/python3.10/dist-packages (from imbalanced-learn->imblearn) (1.23.5)\n",
            "Requirement already satisfied: scipy>=1.3.2 in /usr/local/lib/python3.10/dist-packages (from imbalanced-learn->imblearn) (1.11.3)\n",
            "Requirement already satisfied: scikit-learn>=1.0.2 in /usr/local/lib/python3.10/dist-packages (from imbalanced-learn->imblearn) (1.2.2)\n",
            "Requirement already satisfied: joblib>=1.1.1 in /usr/local/lib/python3.10/dist-packages (from imbalanced-learn->imblearn) (1.3.2)\n",
            "Requirement already satisfied: threadpoolctl>=2.0.0 in /usr/local/lib/python3.10/dist-packages (from imbalanced-learn->imblearn) (3.2.0)\n",
            "Installing collected packages: imblearn\n",
            "Successfully installed imblearn-0.0\n"
          ]
        }
      ]
    },
    {
      "cell_type": "code",
      "source": [
        "import numpy as np\n",
        "import pandas as pd\n",
        "import matplotlib.pyplot as plt\n",
        "import seaborn as sns\n",
        "from sklearn import metrics\n",
        "from sklearn.model_selection import GridSearchCV\n",
        "from sklearn import preprocessing\n",
        "from sklearn.preprocessing import StandardScaler\n",
        "from sklearn.model_selection import train_test_split\n",
        "from sklearn.linear_model import LogisticRegression\n",
        "from sklearn.feature_selection import SelectFromModel\n",
        "from sklearn.linear_model import LinearRegression\n",
        "from sklearn.preprocessing import MinMaxScaler\n",
        "from sklearn.preprocessing import OneHotEncoder\n",
        "import tensorflow as tf\n",
        "from scikeras.wrappers import KerasClassifier,KerasRegressor\n",
        "from sklearn import model_selection\n",
        "from tensorflow.keras.models import Sequential\n",
        "from tensorflow.keras.layers import Dense, Input, Dropout, BatchNormalization, Flatten\n",
        "import random\n",
        "from sklearn.preprocessing import LabelEncoder\n",
        "from keras.utils import to_categorical\n",
        "from tensorflow.keras import optimizers\n",
        "from sklearn.metrics import confusion_matrix\n",
        "from imblearn.over_sampling import SMOTE"
      ],
      "metadata": {
        "id": "h3Xw2fW3GfVe"
      },
      "execution_count": 183,
      "outputs": []
    },
    {
      "cell_type": "code",
      "source": [
        "pd.set_option('display.float_format', lambda x:'%3f' %x)"
      ],
      "metadata": {
        "id": "w7j1ROZ5JCY6"
      },
      "execution_count": 9,
      "outputs": []
    },
    {
      "cell_type": "code",
      "source": [
        "%matplotlib inline"
      ],
      "metadata": {
        "id": "1UV7xBe4JIih"
      },
      "execution_count": 10,
      "outputs": []
    },
    {
      "cell_type": "markdown",
      "source": [
        "Part A - Q1 A - Read the ‘Signals.csv’ as DatFrame and import required libraries."
      ],
      "metadata": {
        "id": "AQQJCBEDJbD9"
      }
    },
    {
      "cell_type": "code",
      "source": [
        "%cd /content/gdrive/My Drive/Colab Notebooks/\n",
        "df_signal = pd.read_csv(\"NN Project Data - Signal.csv\")\n",
        "df_signal.shape"
      ],
      "metadata": {
        "colab": {
          "base_uri": "https://localhost:8080/"
        },
        "id": "bSLKnJQOJTwZ",
        "outputId": "9ba06a23-e527-4356-b86e-f6519f08372b"
      },
      "execution_count": 11,
      "outputs": [
        {
          "output_type": "stream",
          "name": "stdout",
          "text": [
            "/content/gdrive/My Drive/Colab Notebooks\n"
          ]
        },
        {
          "output_type": "execute_result",
          "data": {
            "text/plain": [
              "(1599, 12)"
            ]
          },
          "metadata": {},
          "execution_count": 11
        }
      ]
    },
    {
      "cell_type": "code",
      "source": [
        "df_signal.head()"
      ],
      "metadata": {
        "colab": {
          "base_uri": "https://localhost:8080/",
          "height": 223
        },
        "id": "0WYbOihhKjX9",
        "outputId": "ae50cc3b-5258-4109-96b7-584812a5248a"
      },
      "execution_count": 12,
      "outputs": [
        {
          "output_type": "execute_result",
          "data": {
            "text/plain": [
              "   Parameter 1  Parameter 2  Parameter 3  Parameter 4  Parameter 5  \\\n",
              "0     7.400000     0.700000     0.000000     1.900000     0.076000   \n",
              "1     7.800000     0.880000     0.000000     2.600000     0.098000   \n",
              "2     7.800000     0.760000     0.040000     2.300000     0.092000   \n",
              "3    11.200000     0.280000     0.560000     1.900000     0.075000   \n",
              "4     7.400000     0.700000     0.000000     1.900000     0.076000   \n",
              "\n",
              "   Parameter 6  Parameter 7  Parameter 8  Parameter 9  Parameter 10  \\\n",
              "0    11.000000    34.000000     0.997800     3.510000      0.560000   \n",
              "1    25.000000    67.000000     0.996800     3.200000      0.680000   \n",
              "2    15.000000    54.000000     0.997000     3.260000      0.650000   \n",
              "3    17.000000    60.000000     0.998000     3.160000      0.580000   \n",
              "4    11.000000    34.000000     0.997800     3.510000      0.560000   \n",
              "\n",
              "   Parameter 11  Signal_Strength  \n",
              "0      9.400000                5  \n",
              "1      9.800000                5  \n",
              "2      9.800000                5  \n",
              "3      9.800000                6  \n",
              "4      9.400000                5  "
            ],
            "text/html": [
              "\n",
              "  <div id=\"df-2ec0ad9b-59a8-42f3-9752-da927cf6f8cf\" class=\"colab-df-container\">\n",
              "    <div>\n",
              "<style scoped>\n",
              "    .dataframe tbody tr th:only-of-type {\n",
              "        vertical-align: middle;\n",
              "    }\n",
              "\n",
              "    .dataframe tbody tr th {\n",
              "        vertical-align: top;\n",
              "    }\n",
              "\n",
              "    .dataframe thead th {\n",
              "        text-align: right;\n",
              "    }\n",
              "</style>\n",
              "<table border=\"1\" class=\"dataframe\">\n",
              "  <thead>\n",
              "    <tr style=\"text-align: right;\">\n",
              "      <th></th>\n",
              "      <th>Parameter 1</th>\n",
              "      <th>Parameter 2</th>\n",
              "      <th>Parameter 3</th>\n",
              "      <th>Parameter 4</th>\n",
              "      <th>Parameter 5</th>\n",
              "      <th>Parameter 6</th>\n",
              "      <th>Parameter 7</th>\n",
              "      <th>Parameter 8</th>\n",
              "      <th>Parameter 9</th>\n",
              "      <th>Parameter 10</th>\n",
              "      <th>Parameter 11</th>\n",
              "      <th>Signal_Strength</th>\n",
              "    </tr>\n",
              "  </thead>\n",
              "  <tbody>\n",
              "    <tr>\n",
              "      <th>0</th>\n",
              "      <td>7.400000</td>\n",
              "      <td>0.700000</td>\n",
              "      <td>0.000000</td>\n",
              "      <td>1.900000</td>\n",
              "      <td>0.076000</td>\n",
              "      <td>11.000000</td>\n",
              "      <td>34.000000</td>\n",
              "      <td>0.997800</td>\n",
              "      <td>3.510000</td>\n",
              "      <td>0.560000</td>\n",
              "      <td>9.400000</td>\n",
              "      <td>5</td>\n",
              "    </tr>\n",
              "    <tr>\n",
              "      <th>1</th>\n",
              "      <td>7.800000</td>\n",
              "      <td>0.880000</td>\n",
              "      <td>0.000000</td>\n",
              "      <td>2.600000</td>\n",
              "      <td>0.098000</td>\n",
              "      <td>25.000000</td>\n",
              "      <td>67.000000</td>\n",
              "      <td>0.996800</td>\n",
              "      <td>3.200000</td>\n",
              "      <td>0.680000</td>\n",
              "      <td>9.800000</td>\n",
              "      <td>5</td>\n",
              "    </tr>\n",
              "    <tr>\n",
              "      <th>2</th>\n",
              "      <td>7.800000</td>\n",
              "      <td>0.760000</td>\n",
              "      <td>0.040000</td>\n",
              "      <td>2.300000</td>\n",
              "      <td>0.092000</td>\n",
              "      <td>15.000000</td>\n",
              "      <td>54.000000</td>\n",
              "      <td>0.997000</td>\n",
              "      <td>3.260000</td>\n",
              "      <td>0.650000</td>\n",
              "      <td>9.800000</td>\n",
              "      <td>5</td>\n",
              "    </tr>\n",
              "    <tr>\n",
              "      <th>3</th>\n",
              "      <td>11.200000</td>\n",
              "      <td>0.280000</td>\n",
              "      <td>0.560000</td>\n",
              "      <td>1.900000</td>\n",
              "      <td>0.075000</td>\n",
              "      <td>17.000000</td>\n",
              "      <td>60.000000</td>\n",
              "      <td>0.998000</td>\n",
              "      <td>3.160000</td>\n",
              "      <td>0.580000</td>\n",
              "      <td>9.800000</td>\n",
              "      <td>6</td>\n",
              "    </tr>\n",
              "    <tr>\n",
              "      <th>4</th>\n",
              "      <td>7.400000</td>\n",
              "      <td>0.700000</td>\n",
              "      <td>0.000000</td>\n",
              "      <td>1.900000</td>\n",
              "      <td>0.076000</td>\n",
              "      <td>11.000000</td>\n",
              "      <td>34.000000</td>\n",
              "      <td>0.997800</td>\n",
              "      <td>3.510000</td>\n",
              "      <td>0.560000</td>\n",
              "      <td>9.400000</td>\n",
              "      <td>5</td>\n",
              "    </tr>\n",
              "  </tbody>\n",
              "</table>\n",
              "</div>\n",
              "    <div class=\"colab-df-buttons\">\n",
              "\n",
              "  <div class=\"colab-df-container\">\n",
              "    <button class=\"colab-df-convert\" onclick=\"convertToInteractive('df-2ec0ad9b-59a8-42f3-9752-da927cf6f8cf')\"\n",
              "            title=\"Convert this dataframe to an interactive table.\"\n",
              "            style=\"display:none;\">\n",
              "\n",
              "  <svg xmlns=\"http://www.w3.org/2000/svg\" height=\"24px\" viewBox=\"0 -960 960 960\">\n",
              "    <path d=\"M120-120v-720h720v720H120Zm60-500h600v-160H180v160Zm220 220h160v-160H400v160Zm0 220h160v-160H400v160ZM180-400h160v-160H180v160Zm440 0h160v-160H620v160ZM180-180h160v-160H180v160Zm440 0h160v-160H620v160Z\"/>\n",
              "  </svg>\n",
              "    </button>\n",
              "\n",
              "  <style>\n",
              "    .colab-df-container {\n",
              "      display:flex;\n",
              "      gap: 12px;\n",
              "    }\n",
              "\n",
              "    .colab-df-convert {\n",
              "      background-color: #E8F0FE;\n",
              "      border: none;\n",
              "      border-radius: 50%;\n",
              "      cursor: pointer;\n",
              "      display: none;\n",
              "      fill: #1967D2;\n",
              "      height: 32px;\n",
              "      padding: 0 0 0 0;\n",
              "      width: 32px;\n",
              "    }\n",
              "\n",
              "    .colab-df-convert:hover {\n",
              "      background-color: #E2EBFA;\n",
              "      box-shadow: 0px 1px 2px rgba(60, 64, 67, 0.3), 0px 1px 3px 1px rgba(60, 64, 67, 0.15);\n",
              "      fill: #174EA6;\n",
              "    }\n",
              "\n",
              "    .colab-df-buttons div {\n",
              "      margin-bottom: 4px;\n",
              "    }\n",
              "\n",
              "    [theme=dark] .colab-df-convert {\n",
              "      background-color: #3B4455;\n",
              "      fill: #D2E3FC;\n",
              "    }\n",
              "\n",
              "    [theme=dark] .colab-df-convert:hover {\n",
              "      background-color: #434B5C;\n",
              "      box-shadow: 0px 1px 3px 1px rgba(0, 0, 0, 0.15);\n",
              "      filter: drop-shadow(0px 1px 2px rgba(0, 0, 0, 0.3));\n",
              "      fill: #FFFFFF;\n",
              "    }\n",
              "  </style>\n",
              "\n",
              "    <script>\n",
              "      const buttonEl =\n",
              "        document.querySelector('#df-2ec0ad9b-59a8-42f3-9752-da927cf6f8cf button.colab-df-convert');\n",
              "      buttonEl.style.display =\n",
              "        google.colab.kernel.accessAllowed ? 'block' : 'none';\n",
              "\n",
              "      async function convertToInteractive(key) {\n",
              "        const element = document.querySelector('#df-2ec0ad9b-59a8-42f3-9752-da927cf6f8cf');\n",
              "        const dataTable =\n",
              "          await google.colab.kernel.invokeFunction('convertToInteractive',\n",
              "                                                    [key], {});\n",
              "        if (!dataTable) return;\n",
              "\n",
              "        const docLinkHtml = 'Like what you see? Visit the ' +\n",
              "          '<a target=\"_blank\" href=https://colab.research.google.com/notebooks/data_table.ipynb>data table notebook</a>'\n",
              "          + ' to learn more about interactive tables.';\n",
              "        element.innerHTML = '';\n",
              "        dataTable['output_type'] = 'display_data';\n",
              "        await google.colab.output.renderOutput(dataTable, element);\n",
              "        const docLink = document.createElement('div');\n",
              "        docLink.innerHTML = docLinkHtml;\n",
              "        element.appendChild(docLink);\n",
              "      }\n",
              "    </script>\n",
              "  </div>\n",
              "\n",
              "\n",
              "<div id=\"df-3c3078c8-cad3-41fa-a169-36e634c08d54\">\n",
              "  <button class=\"colab-df-quickchart\" onclick=\"quickchart('df-3c3078c8-cad3-41fa-a169-36e634c08d54')\"\n",
              "            title=\"Suggest charts.\"\n",
              "            style=\"display:none;\">\n",
              "\n",
              "<svg xmlns=\"http://www.w3.org/2000/svg\" height=\"24px\"viewBox=\"0 0 24 24\"\n",
              "     width=\"24px\">\n",
              "    <g>\n",
              "        <path d=\"M19 3H5c-1.1 0-2 .9-2 2v14c0 1.1.9 2 2 2h14c1.1 0 2-.9 2-2V5c0-1.1-.9-2-2-2zM9 17H7v-7h2v7zm4 0h-2V7h2v10zm4 0h-2v-4h2v4z\"/>\n",
              "    </g>\n",
              "</svg>\n",
              "  </button>\n",
              "\n",
              "<style>\n",
              "  .colab-df-quickchart {\n",
              "      --bg-color: #E8F0FE;\n",
              "      --fill-color: #1967D2;\n",
              "      --hover-bg-color: #E2EBFA;\n",
              "      --hover-fill-color: #174EA6;\n",
              "      --disabled-fill-color: #AAA;\n",
              "      --disabled-bg-color: #DDD;\n",
              "  }\n",
              "\n",
              "  [theme=dark] .colab-df-quickchart {\n",
              "      --bg-color: #3B4455;\n",
              "      --fill-color: #D2E3FC;\n",
              "      --hover-bg-color: #434B5C;\n",
              "      --hover-fill-color: #FFFFFF;\n",
              "      --disabled-bg-color: #3B4455;\n",
              "      --disabled-fill-color: #666;\n",
              "  }\n",
              "\n",
              "  .colab-df-quickchart {\n",
              "    background-color: var(--bg-color);\n",
              "    border: none;\n",
              "    border-radius: 50%;\n",
              "    cursor: pointer;\n",
              "    display: none;\n",
              "    fill: var(--fill-color);\n",
              "    height: 32px;\n",
              "    padding: 0;\n",
              "    width: 32px;\n",
              "  }\n",
              "\n",
              "  .colab-df-quickchart:hover {\n",
              "    background-color: var(--hover-bg-color);\n",
              "    box-shadow: 0 1px 2px rgba(60, 64, 67, 0.3), 0 1px 3px 1px rgba(60, 64, 67, 0.15);\n",
              "    fill: var(--button-hover-fill-color);\n",
              "  }\n",
              "\n",
              "  .colab-df-quickchart-complete:disabled,\n",
              "  .colab-df-quickchart-complete:disabled:hover {\n",
              "    background-color: var(--disabled-bg-color);\n",
              "    fill: var(--disabled-fill-color);\n",
              "    box-shadow: none;\n",
              "  }\n",
              "\n",
              "  .colab-df-spinner {\n",
              "    border: 2px solid var(--fill-color);\n",
              "    border-color: transparent;\n",
              "    border-bottom-color: var(--fill-color);\n",
              "    animation:\n",
              "      spin 1s steps(1) infinite;\n",
              "  }\n",
              "\n",
              "  @keyframes spin {\n",
              "    0% {\n",
              "      border-color: transparent;\n",
              "      border-bottom-color: var(--fill-color);\n",
              "      border-left-color: var(--fill-color);\n",
              "    }\n",
              "    20% {\n",
              "      border-color: transparent;\n",
              "      border-left-color: var(--fill-color);\n",
              "      border-top-color: var(--fill-color);\n",
              "    }\n",
              "    30% {\n",
              "      border-color: transparent;\n",
              "      border-left-color: var(--fill-color);\n",
              "      border-top-color: var(--fill-color);\n",
              "      border-right-color: var(--fill-color);\n",
              "    }\n",
              "    40% {\n",
              "      border-color: transparent;\n",
              "      border-right-color: var(--fill-color);\n",
              "      border-top-color: var(--fill-color);\n",
              "    }\n",
              "    60% {\n",
              "      border-color: transparent;\n",
              "      border-right-color: var(--fill-color);\n",
              "    }\n",
              "    80% {\n",
              "      border-color: transparent;\n",
              "      border-right-color: var(--fill-color);\n",
              "      border-bottom-color: var(--fill-color);\n",
              "    }\n",
              "    90% {\n",
              "      border-color: transparent;\n",
              "      border-bottom-color: var(--fill-color);\n",
              "    }\n",
              "  }\n",
              "</style>\n",
              "\n",
              "  <script>\n",
              "    async function quickchart(key) {\n",
              "      const quickchartButtonEl =\n",
              "        document.querySelector('#' + key + ' button');\n",
              "      quickchartButtonEl.disabled = true;  // To prevent multiple clicks.\n",
              "      quickchartButtonEl.classList.add('colab-df-spinner');\n",
              "      try {\n",
              "        const charts = await google.colab.kernel.invokeFunction(\n",
              "            'suggestCharts', [key], {});\n",
              "      } catch (error) {\n",
              "        console.error('Error during call to suggestCharts:', error);\n",
              "      }\n",
              "      quickchartButtonEl.classList.remove('colab-df-spinner');\n",
              "      quickchartButtonEl.classList.add('colab-df-quickchart-complete');\n",
              "    }\n",
              "    (() => {\n",
              "      let quickchartButtonEl =\n",
              "        document.querySelector('#df-3c3078c8-cad3-41fa-a169-36e634c08d54 button');\n",
              "      quickchartButtonEl.style.display =\n",
              "        google.colab.kernel.accessAllowed ? 'block' : 'none';\n",
              "    })();\n",
              "  </script>\n",
              "</div>\n",
              "    </div>\n",
              "  </div>\n"
            ]
          },
          "metadata": {},
          "execution_count": 12
        }
      ]
    },
    {
      "cell_type": "code",
      "source": [
        "df_signal.info()"
      ],
      "metadata": {
        "colab": {
          "base_uri": "https://localhost:8080/"
        },
        "id": "gIiOo4m8KyGH",
        "outputId": "d34e22a6-fab6-4bf4-c22b-3f367a9473fa"
      },
      "execution_count": 13,
      "outputs": [
        {
          "output_type": "stream",
          "name": "stdout",
          "text": [
            "<class 'pandas.core.frame.DataFrame'>\n",
            "RangeIndex: 1599 entries, 0 to 1598\n",
            "Data columns (total 12 columns):\n",
            " #   Column           Non-Null Count  Dtype  \n",
            "---  ------           --------------  -----  \n",
            " 0   Parameter 1      1599 non-null   float64\n",
            " 1   Parameter 2      1599 non-null   float64\n",
            " 2   Parameter 3      1599 non-null   float64\n",
            " 3   Parameter 4      1599 non-null   float64\n",
            " 4   Parameter 5      1599 non-null   float64\n",
            " 5   Parameter 6      1599 non-null   float64\n",
            " 6   Parameter 7      1599 non-null   float64\n",
            " 7   Parameter 8      1599 non-null   float64\n",
            " 8   Parameter 9      1599 non-null   float64\n",
            " 9   Parameter 10     1599 non-null   float64\n",
            " 10  Parameter 11     1599 non-null   float64\n",
            " 11  Signal_Strength  1599 non-null   int64  \n",
            "dtypes: float64(11), int64(1)\n",
            "memory usage: 150.0 KB\n"
          ]
        }
      ]
    },
    {
      "cell_type": "code",
      "source": [
        "df_signal.describe()"
      ],
      "metadata": {
        "colab": {
          "base_uri": "https://localhost:8080/",
          "height": 337
        },
        "id": "enkgxWKkLVlP",
        "outputId": "e36b527e-38e2-44b7-86fc-99ca4f61de62"
      },
      "execution_count": 14,
      "outputs": [
        {
          "output_type": "execute_result",
          "data": {
            "text/plain": [
              "       Parameter 1  Parameter 2  Parameter 3  Parameter 4  Parameter 5  \\\n",
              "count  1599.000000  1599.000000  1599.000000  1599.000000  1599.000000   \n",
              "mean      8.319637     0.527821     0.270976     2.538806     0.087467   \n",
              "std       1.741096     0.179060     0.194801     1.409928     0.047065   \n",
              "min       4.600000     0.120000     0.000000     0.900000     0.012000   \n",
              "25%       7.100000     0.390000     0.090000     1.900000     0.070000   \n",
              "50%       7.900000     0.520000     0.260000     2.200000     0.079000   \n",
              "75%       9.200000     0.640000     0.420000     2.600000     0.090000   \n",
              "max      15.900000     1.580000     1.000000    15.500000     0.611000   \n",
              "\n",
              "       Parameter 6  Parameter 7  Parameter 8  Parameter 9  Parameter 10  \\\n",
              "count  1599.000000  1599.000000  1599.000000  1599.000000   1599.000000   \n",
              "mean     15.874922    46.467792     0.996747     3.311113      0.658149   \n",
              "std      10.460157    32.895324     0.001887     0.154386      0.169507   \n",
              "min       1.000000     6.000000     0.990070     2.740000      0.330000   \n",
              "25%       7.000000    22.000000     0.995600     3.210000      0.550000   \n",
              "50%      14.000000    38.000000     0.996750     3.310000      0.620000   \n",
              "75%      21.000000    62.000000     0.997835     3.400000      0.730000   \n",
              "max      72.000000   289.000000     1.003690     4.010000      2.000000   \n",
              "\n",
              "       Parameter 11  Signal_Strength  \n",
              "count   1599.000000      1599.000000  \n",
              "mean      10.422983         5.636023  \n",
              "std        1.065668         0.807569  \n",
              "min        8.400000         3.000000  \n",
              "25%        9.500000         5.000000  \n",
              "50%       10.200000         6.000000  \n",
              "75%       11.100000         6.000000  \n",
              "max       14.900000         8.000000  "
            ],
            "text/html": [
              "\n",
              "  <div id=\"df-fa10c00d-1495-4d28-8ef5-15fbe456d8f4\" class=\"colab-df-container\">\n",
              "    <div>\n",
              "<style scoped>\n",
              "    .dataframe tbody tr th:only-of-type {\n",
              "        vertical-align: middle;\n",
              "    }\n",
              "\n",
              "    .dataframe tbody tr th {\n",
              "        vertical-align: top;\n",
              "    }\n",
              "\n",
              "    .dataframe thead th {\n",
              "        text-align: right;\n",
              "    }\n",
              "</style>\n",
              "<table border=\"1\" class=\"dataframe\">\n",
              "  <thead>\n",
              "    <tr style=\"text-align: right;\">\n",
              "      <th></th>\n",
              "      <th>Parameter 1</th>\n",
              "      <th>Parameter 2</th>\n",
              "      <th>Parameter 3</th>\n",
              "      <th>Parameter 4</th>\n",
              "      <th>Parameter 5</th>\n",
              "      <th>Parameter 6</th>\n",
              "      <th>Parameter 7</th>\n",
              "      <th>Parameter 8</th>\n",
              "      <th>Parameter 9</th>\n",
              "      <th>Parameter 10</th>\n",
              "      <th>Parameter 11</th>\n",
              "      <th>Signal_Strength</th>\n",
              "    </tr>\n",
              "  </thead>\n",
              "  <tbody>\n",
              "    <tr>\n",
              "      <th>count</th>\n",
              "      <td>1599.000000</td>\n",
              "      <td>1599.000000</td>\n",
              "      <td>1599.000000</td>\n",
              "      <td>1599.000000</td>\n",
              "      <td>1599.000000</td>\n",
              "      <td>1599.000000</td>\n",
              "      <td>1599.000000</td>\n",
              "      <td>1599.000000</td>\n",
              "      <td>1599.000000</td>\n",
              "      <td>1599.000000</td>\n",
              "      <td>1599.000000</td>\n",
              "      <td>1599.000000</td>\n",
              "    </tr>\n",
              "    <tr>\n",
              "      <th>mean</th>\n",
              "      <td>8.319637</td>\n",
              "      <td>0.527821</td>\n",
              "      <td>0.270976</td>\n",
              "      <td>2.538806</td>\n",
              "      <td>0.087467</td>\n",
              "      <td>15.874922</td>\n",
              "      <td>46.467792</td>\n",
              "      <td>0.996747</td>\n",
              "      <td>3.311113</td>\n",
              "      <td>0.658149</td>\n",
              "      <td>10.422983</td>\n",
              "      <td>5.636023</td>\n",
              "    </tr>\n",
              "    <tr>\n",
              "      <th>std</th>\n",
              "      <td>1.741096</td>\n",
              "      <td>0.179060</td>\n",
              "      <td>0.194801</td>\n",
              "      <td>1.409928</td>\n",
              "      <td>0.047065</td>\n",
              "      <td>10.460157</td>\n",
              "      <td>32.895324</td>\n",
              "      <td>0.001887</td>\n",
              "      <td>0.154386</td>\n",
              "      <td>0.169507</td>\n",
              "      <td>1.065668</td>\n",
              "      <td>0.807569</td>\n",
              "    </tr>\n",
              "    <tr>\n",
              "      <th>min</th>\n",
              "      <td>4.600000</td>\n",
              "      <td>0.120000</td>\n",
              "      <td>0.000000</td>\n",
              "      <td>0.900000</td>\n",
              "      <td>0.012000</td>\n",
              "      <td>1.000000</td>\n",
              "      <td>6.000000</td>\n",
              "      <td>0.990070</td>\n",
              "      <td>2.740000</td>\n",
              "      <td>0.330000</td>\n",
              "      <td>8.400000</td>\n",
              "      <td>3.000000</td>\n",
              "    </tr>\n",
              "    <tr>\n",
              "      <th>25%</th>\n",
              "      <td>7.100000</td>\n",
              "      <td>0.390000</td>\n",
              "      <td>0.090000</td>\n",
              "      <td>1.900000</td>\n",
              "      <td>0.070000</td>\n",
              "      <td>7.000000</td>\n",
              "      <td>22.000000</td>\n",
              "      <td>0.995600</td>\n",
              "      <td>3.210000</td>\n",
              "      <td>0.550000</td>\n",
              "      <td>9.500000</td>\n",
              "      <td>5.000000</td>\n",
              "    </tr>\n",
              "    <tr>\n",
              "      <th>50%</th>\n",
              "      <td>7.900000</td>\n",
              "      <td>0.520000</td>\n",
              "      <td>0.260000</td>\n",
              "      <td>2.200000</td>\n",
              "      <td>0.079000</td>\n",
              "      <td>14.000000</td>\n",
              "      <td>38.000000</td>\n",
              "      <td>0.996750</td>\n",
              "      <td>3.310000</td>\n",
              "      <td>0.620000</td>\n",
              "      <td>10.200000</td>\n",
              "      <td>6.000000</td>\n",
              "    </tr>\n",
              "    <tr>\n",
              "      <th>75%</th>\n",
              "      <td>9.200000</td>\n",
              "      <td>0.640000</td>\n",
              "      <td>0.420000</td>\n",
              "      <td>2.600000</td>\n",
              "      <td>0.090000</td>\n",
              "      <td>21.000000</td>\n",
              "      <td>62.000000</td>\n",
              "      <td>0.997835</td>\n",
              "      <td>3.400000</td>\n",
              "      <td>0.730000</td>\n",
              "      <td>11.100000</td>\n",
              "      <td>6.000000</td>\n",
              "    </tr>\n",
              "    <tr>\n",
              "      <th>max</th>\n",
              "      <td>15.900000</td>\n",
              "      <td>1.580000</td>\n",
              "      <td>1.000000</td>\n",
              "      <td>15.500000</td>\n",
              "      <td>0.611000</td>\n",
              "      <td>72.000000</td>\n",
              "      <td>289.000000</td>\n",
              "      <td>1.003690</td>\n",
              "      <td>4.010000</td>\n",
              "      <td>2.000000</td>\n",
              "      <td>14.900000</td>\n",
              "      <td>8.000000</td>\n",
              "    </tr>\n",
              "  </tbody>\n",
              "</table>\n",
              "</div>\n",
              "    <div class=\"colab-df-buttons\">\n",
              "\n",
              "  <div class=\"colab-df-container\">\n",
              "    <button class=\"colab-df-convert\" onclick=\"convertToInteractive('df-fa10c00d-1495-4d28-8ef5-15fbe456d8f4')\"\n",
              "            title=\"Convert this dataframe to an interactive table.\"\n",
              "            style=\"display:none;\">\n",
              "\n",
              "  <svg xmlns=\"http://www.w3.org/2000/svg\" height=\"24px\" viewBox=\"0 -960 960 960\">\n",
              "    <path d=\"M120-120v-720h720v720H120Zm60-500h600v-160H180v160Zm220 220h160v-160H400v160Zm0 220h160v-160H400v160ZM180-400h160v-160H180v160Zm440 0h160v-160H620v160ZM180-180h160v-160H180v160Zm440 0h160v-160H620v160Z\"/>\n",
              "  </svg>\n",
              "    </button>\n",
              "\n",
              "  <style>\n",
              "    .colab-df-container {\n",
              "      display:flex;\n",
              "      gap: 12px;\n",
              "    }\n",
              "\n",
              "    .colab-df-convert {\n",
              "      background-color: #E8F0FE;\n",
              "      border: none;\n",
              "      border-radius: 50%;\n",
              "      cursor: pointer;\n",
              "      display: none;\n",
              "      fill: #1967D2;\n",
              "      height: 32px;\n",
              "      padding: 0 0 0 0;\n",
              "      width: 32px;\n",
              "    }\n",
              "\n",
              "    .colab-df-convert:hover {\n",
              "      background-color: #E2EBFA;\n",
              "      box-shadow: 0px 1px 2px rgba(60, 64, 67, 0.3), 0px 1px 3px 1px rgba(60, 64, 67, 0.15);\n",
              "      fill: #174EA6;\n",
              "    }\n",
              "\n",
              "    .colab-df-buttons div {\n",
              "      margin-bottom: 4px;\n",
              "    }\n",
              "\n",
              "    [theme=dark] .colab-df-convert {\n",
              "      background-color: #3B4455;\n",
              "      fill: #D2E3FC;\n",
              "    }\n",
              "\n",
              "    [theme=dark] .colab-df-convert:hover {\n",
              "      background-color: #434B5C;\n",
              "      box-shadow: 0px 1px 3px 1px rgba(0, 0, 0, 0.15);\n",
              "      filter: drop-shadow(0px 1px 2px rgba(0, 0, 0, 0.3));\n",
              "      fill: #FFFFFF;\n",
              "    }\n",
              "  </style>\n",
              "\n",
              "    <script>\n",
              "      const buttonEl =\n",
              "        document.querySelector('#df-fa10c00d-1495-4d28-8ef5-15fbe456d8f4 button.colab-df-convert');\n",
              "      buttonEl.style.display =\n",
              "        google.colab.kernel.accessAllowed ? 'block' : 'none';\n",
              "\n",
              "      async function convertToInteractive(key) {\n",
              "        const element = document.querySelector('#df-fa10c00d-1495-4d28-8ef5-15fbe456d8f4');\n",
              "        const dataTable =\n",
              "          await google.colab.kernel.invokeFunction('convertToInteractive',\n",
              "                                                    [key], {});\n",
              "        if (!dataTable) return;\n",
              "\n",
              "        const docLinkHtml = 'Like what you see? Visit the ' +\n",
              "          '<a target=\"_blank\" href=https://colab.research.google.com/notebooks/data_table.ipynb>data table notebook</a>'\n",
              "          + ' to learn more about interactive tables.';\n",
              "        element.innerHTML = '';\n",
              "        dataTable['output_type'] = 'display_data';\n",
              "        await google.colab.output.renderOutput(dataTable, element);\n",
              "        const docLink = document.createElement('div');\n",
              "        docLink.innerHTML = docLinkHtml;\n",
              "        element.appendChild(docLink);\n",
              "      }\n",
              "    </script>\n",
              "  </div>\n",
              "\n",
              "\n",
              "<div id=\"df-2a01434c-08fc-4008-ab47-51b34b09c9fd\">\n",
              "  <button class=\"colab-df-quickchart\" onclick=\"quickchart('df-2a01434c-08fc-4008-ab47-51b34b09c9fd')\"\n",
              "            title=\"Suggest charts.\"\n",
              "            style=\"display:none;\">\n",
              "\n",
              "<svg xmlns=\"http://www.w3.org/2000/svg\" height=\"24px\"viewBox=\"0 0 24 24\"\n",
              "     width=\"24px\">\n",
              "    <g>\n",
              "        <path d=\"M19 3H5c-1.1 0-2 .9-2 2v14c0 1.1.9 2 2 2h14c1.1 0 2-.9 2-2V5c0-1.1-.9-2-2-2zM9 17H7v-7h2v7zm4 0h-2V7h2v10zm4 0h-2v-4h2v4z\"/>\n",
              "    </g>\n",
              "</svg>\n",
              "  </button>\n",
              "\n",
              "<style>\n",
              "  .colab-df-quickchart {\n",
              "      --bg-color: #E8F0FE;\n",
              "      --fill-color: #1967D2;\n",
              "      --hover-bg-color: #E2EBFA;\n",
              "      --hover-fill-color: #174EA6;\n",
              "      --disabled-fill-color: #AAA;\n",
              "      --disabled-bg-color: #DDD;\n",
              "  }\n",
              "\n",
              "  [theme=dark] .colab-df-quickchart {\n",
              "      --bg-color: #3B4455;\n",
              "      --fill-color: #D2E3FC;\n",
              "      --hover-bg-color: #434B5C;\n",
              "      --hover-fill-color: #FFFFFF;\n",
              "      --disabled-bg-color: #3B4455;\n",
              "      --disabled-fill-color: #666;\n",
              "  }\n",
              "\n",
              "  .colab-df-quickchart {\n",
              "    background-color: var(--bg-color);\n",
              "    border: none;\n",
              "    border-radius: 50%;\n",
              "    cursor: pointer;\n",
              "    display: none;\n",
              "    fill: var(--fill-color);\n",
              "    height: 32px;\n",
              "    padding: 0;\n",
              "    width: 32px;\n",
              "  }\n",
              "\n",
              "  .colab-df-quickchart:hover {\n",
              "    background-color: var(--hover-bg-color);\n",
              "    box-shadow: 0 1px 2px rgba(60, 64, 67, 0.3), 0 1px 3px 1px rgba(60, 64, 67, 0.15);\n",
              "    fill: var(--button-hover-fill-color);\n",
              "  }\n",
              "\n",
              "  .colab-df-quickchart-complete:disabled,\n",
              "  .colab-df-quickchart-complete:disabled:hover {\n",
              "    background-color: var(--disabled-bg-color);\n",
              "    fill: var(--disabled-fill-color);\n",
              "    box-shadow: none;\n",
              "  }\n",
              "\n",
              "  .colab-df-spinner {\n",
              "    border: 2px solid var(--fill-color);\n",
              "    border-color: transparent;\n",
              "    border-bottom-color: var(--fill-color);\n",
              "    animation:\n",
              "      spin 1s steps(1) infinite;\n",
              "  }\n",
              "\n",
              "  @keyframes spin {\n",
              "    0% {\n",
              "      border-color: transparent;\n",
              "      border-bottom-color: var(--fill-color);\n",
              "      border-left-color: var(--fill-color);\n",
              "    }\n",
              "    20% {\n",
              "      border-color: transparent;\n",
              "      border-left-color: var(--fill-color);\n",
              "      border-top-color: var(--fill-color);\n",
              "    }\n",
              "    30% {\n",
              "      border-color: transparent;\n",
              "      border-left-color: var(--fill-color);\n",
              "      border-top-color: var(--fill-color);\n",
              "      border-right-color: var(--fill-color);\n",
              "    }\n",
              "    40% {\n",
              "      border-color: transparent;\n",
              "      border-right-color: var(--fill-color);\n",
              "      border-top-color: var(--fill-color);\n",
              "    }\n",
              "    60% {\n",
              "      border-color: transparent;\n",
              "      border-right-color: var(--fill-color);\n",
              "    }\n",
              "    80% {\n",
              "      border-color: transparent;\n",
              "      border-right-color: var(--fill-color);\n",
              "      border-bottom-color: var(--fill-color);\n",
              "    }\n",
              "    90% {\n",
              "      border-color: transparent;\n",
              "      border-bottom-color: var(--fill-color);\n",
              "    }\n",
              "  }\n",
              "</style>\n",
              "\n",
              "  <script>\n",
              "    async function quickchart(key) {\n",
              "      const quickchartButtonEl =\n",
              "        document.querySelector('#' + key + ' button');\n",
              "      quickchartButtonEl.disabled = true;  // To prevent multiple clicks.\n",
              "      quickchartButtonEl.classList.add('colab-df-spinner');\n",
              "      try {\n",
              "        const charts = await google.colab.kernel.invokeFunction(\n",
              "            'suggestCharts', [key], {});\n",
              "      } catch (error) {\n",
              "        console.error('Error during call to suggestCharts:', error);\n",
              "      }\n",
              "      quickchartButtonEl.classList.remove('colab-df-spinner');\n",
              "      quickchartButtonEl.classList.add('colab-df-quickchart-complete');\n",
              "    }\n",
              "    (() => {\n",
              "      let quickchartButtonEl =\n",
              "        document.querySelector('#df-2a01434c-08fc-4008-ab47-51b34b09c9fd button');\n",
              "      quickchartButtonEl.style.display =\n",
              "        google.colab.kernel.accessAllowed ? 'block' : 'none';\n",
              "    })();\n",
              "  </script>\n",
              "</div>\n",
              "    </div>\n",
              "  </div>\n"
            ]
          },
          "metadata": {},
          "execution_count": 14
        }
      ]
    },
    {
      "cell_type": "markdown",
      "source": [
        "Part A - Q1 B - Check for missing values and print percentage for each attribute."
      ],
      "metadata": {
        "id": "OcqjF48MJe3a"
      }
    },
    {
      "cell_type": "code",
      "source": [
        "percent_missing = df_signal.isnull().sum() * 100 / len(df_signal)\n",
        "missing_value_df = pd.DataFrame({'column_name': df_signal.columns,\n",
        "                                 'percent_missing': percent_missing})\n",
        "print(missing_value_df)"
      ],
      "metadata": {
        "colab": {
          "base_uri": "https://localhost:8080/"
        },
        "id": "R15CS-vNMOO_",
        "outputId": "fa3ebbc9-ee02-4d9f-da6f-65340a8aa8e9"
      },
      "execution_count": 15,
      "outputs": [
        {
          "output_type": "stream",
          "name": "stdout",
          "text": [
            "                     column_name  percent_missing\n",
            "Parameter 1          Parameter 1         0.000000\n",
            "Parameter 2          Parameter 2         0.000000\n",
            "Parameter 3          Parameter 3         0.000000\n",
            "Parameter 4          Parameter 4         0.000000\n",
            "Parameter 5          Parameter 5         0.000000\n",
            "Parameter 6          Parameter 6         0.000000\n",
            "Parameter 7          Parameter 7         0.000000\n",
            "Parameter 8          Parameter 8         0.000000\n",
            "Parameter 9          Parameter 9         0.000000\n",
            "Parameter 10        Parameter 10         0.000000\n",
            "Parameter 11        Parameter 11         0.000000\n",
            "Signal_Strength  Signal_Strength         0.000000\n"
          ]
        }
      ]
    },
    {
      "cell_type": "code",
      "source": [
        "df_signal.isna().sum()"
      ],
      "metadata": {
        "colab": {
          "base_uri": "https://localhost:8080/"
        },
        "id": "vGryHm29PFE2",
        "outputId": "3dc88a31-5e39-4105-ad73-51ef852fa7a9"
      },
      "execution_count": 16,
      "outputs": [
        {
          "output_type": "execute_result",
          "data": {
            "text/plain": [
              "Parameter 1        0\n",
              "Parameter 2        0\n",
              "Parameter 3        0\n",
              "Parameter 4        0\n",
              "Parameter 5        0\n",
              "Parameter 6        0\n",
              "Parameter 7        0\n",
              "Parameter 8        0\n",
              "Parameter 9        0\n",
              "Parameter 10       0\n",
              "Parameter 11       0\n",
              "Signal_Strength    0\n",
              "dtype: int64"
            ]
          },
          "metadata": {},
          "execution_count": 16
        }
      ]
    },
    {
      "cell_type": "markdown",
      "source": [
        "There are no missing values in the dataset"
      ],
      "metadata": {
        "id": "uGpvUhBWQE-L"
      }
    },
    {
      "cell_type": "markdown",
      "source": [
        "Part A - Q1 C - Check for presence of duplicate records in the dataset and impute with appropriate method"
      ],
      "metadata": {
        "id": "lG5pwE4sQKU0"
      }
    },
    {
      "cell_type": "code",
      "source": [
        "df_signal.duplicated().sum()"
      ],
      "metadata": {
        "colab": {
          "base_uri": "https://localhost:8080/"
        },
        "id": "fFZI-Kc7V0y3",
        "outputId": "87f2279a-da16-4b34-d880-278cdb1514af"
      },
      "execution_count": 17,
      "outputs": [
        {
          "output_type": "execute_result",
          "data": {
            "text/plain": [
              "240"
            ]
          },
          "metadata": {},
          "execution_count": 17
        }
      ]
    },
    {
      "cell_type": "markdown",
      "source": [
        "imputing wont solve the purpose as duplicates will still exist."
      ],
      "metadata": {
        "id": "8xEzGybp5I9T"
      }
    },
    {
      "cell_type": "code",
      "source": [
        "df_grouped = df_signal.groupby('Signal_Strength').mean().reset_index()\n",
        "print(df_grouped)"
      ],
      "metadata": {
        "colab": {
          "base_uri": "https://localhost:8080/"
        },
        "id": "v4ccXWu5We17",
        "outputId": "ca99c98c-c9d1-49bc-981a-7fdc7a2b9717"
      },
      "execution_count": 18,
      "outputs": [
        {
          "output_type": "stream",
          "name": "stdout",
          "text": [
            "   Signal_Strength  Parameter 1  Parameter 2  Parameter 3  Parameter 4  \\\n",
            "0                3     8.360000     0.884500     0.171000     2.635000   \n",
            "1                4     7.779245     0.693962     0.174151     2.694340   \n",
            "2                5     8.167254     0.577041     0.243686     2.528855   \n",
            "3                6     8.347179     0.497484     0.273824     2.477194   \n",
            "4                7     8.872362     0.403920     0.375176     2.720603   \n",
            "5                8     8.566667     0.423333     0.391111     2.577778   \n",
            "\n",
            "   Parameter 5  Parameter 6  Parameter 7  Parameter 8  Parameter 9  \\\n",
            "0     0.122500    11.000000    24.900000     0.997464     3.398000   \n",
            "1     0.090679    12.264151    36.245283     0.996542     3.381509   \n",
            "2     0.092736    16.983847    56.513950     0.997104     3.304949   \n",
            "3     0.084956    15.711599    40.869906     0.996615     3.318072   \n",
            "4     0.076588    14.045226    35.020101     0.996104     3.290754   \n",
            "5     0.068444    13.277778    33.444444     0.995212     3.267222   \n",
            "\n",
            "   Parameter 10  Parameter 11  \n",
            "0      0.570000      9.955000  \n",
            "1      0.596415     10.265094  \n",
            "2      0.620969      9.899706  \n",
            "3      0.675329     10.629519  \n",
            "4      0.741256     11.465913  \n",
            "5      0.767778     12.094444  \n"
          ]
        }
      ]
    },
    {
      "cell_type": "markdown",
      "source": [
        "Hence, dropping duplicates"
      ],
      "metadata": {
        "id": "HBQNi1X25Ug5"
      }
    },
    {
      "cell_type": "code",
      "source": [
        "df_grouped.duplicated().sum()"
      ],
      "metadata": {
        "colab": {
          "base_uri": "https://localhost:8080/"
        },
        "id": "FwQlHRctTf6t",
        "outputId": "d03b6cc5-2df6-4e6c-d2ef-ab7e3483823c"
      },
      "execution_count": 19,
      "outputs": [
        {
          "output_type": "execute_result",
          "data": {
            "text/plain": [
              "0"
            ]
          },
          "metadata": {},
          "execution_count": 19
        }
      ]
    },
    {
      "cell_type": "code",
      "source": [
        "df_signal.drop_duplicates(inplace=True)"
      ],
      "metadata": {
        "id": "nlp19JpT5O_i"
      },
      "execution_count": 20,
      "outputs": []
    },
    {
      "cell_type": "code",
      "source": [
        "df_signal.duplicated().sum()"
      ],
      "metadata": {
        "colab": {
          "base_uri": "https://localhost:8080/"
        },
        "id": "Fh-F2kPz5Rk2",
        "outputId": "51dd9a36-e86e-4b8a-ee57-d3146da8c6e7"
      },
      "execution_count": 21,
      "outputs": [
        {
          "output_type": "execute_result",
          "data": {
            "text/plain": [
              "0"
            ]
          },
          "metadata": {},
          "execution_count": 21
        }
      ]
    },
    {
      "cell_type": "markdown",
      "source": [
        "Part A - Q1 D - Visualise distribution of the target variable."
      ],
      "metadata": {
        "id": "qTbHPAZknVcs"
      }
    },
    {
      "cell_type": "code",
      "source": [
        "df_signal['Signal_Strength'].value_counts()"
      ],
      "metadata": {
        "colab": {
          "base_uri": "https://localhost:8080/"
        },
        "id": "XPj-2ETrbHvh",
        "outputId": "dd15cc96-ae22-48a3-ada5-0f67339f4a7c"
      },
      "execution_count": 22,
      "outputs": [
        {
          "output_type": "execute_result",
          "data": {
            "text/plain": [
              "5    577\n",
              "6    535\n",
              "7    167\n",
              "4     53\n",
              "8     17\n",
              "3     10\n",
              "Name: Signal_Strength, dtype: int64"
            ]
          },
          "metadata": {},
          "execution_count": 22
        }
      ]
    },
    {
      "cell_type": "code",
      "source": [
        "sns.histplot(data=df_signal, x='Signal_Strength', stat='density', bins=25, kde='true')\n",
        "plt.show()\n",
        "\n",
        "sns.boxplot(data=df_signal, x='Signal_Strength')\n",
        "plt.show()"
      ],
      "metadata": {
        "colab": {
          "base_uri": "https://localhost:8080/",
          "height": 883
        },
        "id": "99HzTyW0nXtF",
        "outputId": "5ced0654-4e99-48bf-c6d2-fdc1dd4bada9"
      },
      "execution_count": 23,
      "outputs": [
        {
          "output_type": "display_data",
          "data": {
            "text/plain": [
              "<Figure size 640x480 with 1 Axes>"
            ],
            "image/png": "[encoded data removed]"
          },
          "metadata": {}
        },
        {
          "output_type": "display_data",
          "data": {
            "text/plain": [
              "<Figure size 640x480 with 1 Axes>"
            ],
            "image/png": "[encoded data removed]"
          },
          "metadata": {}
        }
      ]
    },
    {
      "cell_type": "markdown",
      "source": [
        "Part A - Q1 E - Share insights from the initial data analysis (at least 2)."
      ],
      "metadata": {
        "id": "7zUqipNkrexG"
      }
    },
    {
      "cell_type": "markdown",
      "source": [
        "Only signals with strength of 5 & 6, have highest number of records and for other values, we have very few records which are outliers in this case."
      ],
      "metadata": {
        "id": "lTZzZhjYrxOy"
      }
    },
    {
      "cell_type": "markdown",
      "source": [
        "Part A - Q2 A - Split the data into X & Y."
      ],
      "metadata": {
        "id": "fnPtul6gtc7N"
      }
    },
    {
      "cell_type": "code",
      "source": [
        "X=df_signal.drop(['Signal_Strength'], axis=1)\n",
        "\n",
        "Y=df_signal['Signal_Strength']"
      ],
      "metadata": {
        "id": "-_GYum-stkeo"
      },
      "execution_count": 24,
      "outputs": []
    },
    {
      "cell_type": "markdown",
      "source": [
        "Part A - Q2 B - Split the data into train & test with 70:30 proportion."
      ],
      "metadata": {
        "id": "_nNK-ATpvIX8"
      }
    },
    {
      "cell_type": "code",
      "source": [
        "X_train, X_test, y_train, y_test = train_test_split(X, Y, test_size=0.20, random_state=1)"
      ],
      "metadata": {
        "id": "hC7BoM9eu8l6"
      },
      "execution_count": 25,
      "outputs": []
    },
    {
      "cell_type": "markdown",
      "source": [
        "Part A - Q2 C - Print shape of all the 4 variables and verify if train and test data is in sync."
      ],
      "metadata": {
        "id": "zPfaht2nvOfB"
      }
    },
    {
      "cell_type": "code",
      "source": [
        "print(X_train.shape)\n",
        "print(y_train.shape)"
      ],
      "metadata": {
        "colab": {
          "base_uri": "https://localhost:8080/"
        },
        "id": "xeHjQgLZvBR0",
        "outputId": "90f05269-13b8-4b8a-9399-60eb88f6b9ee"
      },
      "execution_count": 26,
      "outputs": [
        {
          "output_type": "stream",
          "name": "stdout",
          "text": [
            "(1087, 11)\n",
            "(1087,)\n"
          ]
        }
      ]
    },
    {
      "cell_type": "code",
      "source": [
        "print(X_test.shape)\n",
        "print(y_test.shape)"
      ],
      "metadata": {
        "colab": {
          "base_uri": "https://localhost:8080/"
        },
        "id": "YTrflhtPvDst",
        "outputId": "4b941eb0-ce6a-4841-e162-0e7f2bc7f66d"
      },
      "execution_count": 27,
      "outputs": [
        {
          "output_type": "stream",
          "name": "stdout",
          "text": [
            "(272, 11)\n",
            "(272,)\n"
          ]
        }
      ]
    },
    {
      "cell_type": "markdown",
      "source": [
        "Part A - Q2 D - Normalise the train and test data with appropriate method."
      ],
      "metadata": {
        "id": "JfDxWDSrvXHL"
      }
    },
    {
      "cell_type": "code",
      "source": [
        "scaler = MinMaxScaler()\n",
        "x_train_data_norm = scaler.fit_transform(X_train)\n",
        "x_test_data_norm = scaler.transform(X_test)"
      ],
      "metadata": {
        "id": "uSw89nnMv6Nm"
      },
      "execution_count": 28,
      "outputs": []
    },
    {
      "cell_type": "code",
      "source": [
        "normalized_x_train = pd.DataFrame(x_train_data_norm, columns = X_train.columns)\n",
        "normalized_x_test = pd.DataFrame(x_test_data_norm, columns = X_test.columns)"
      ],
      "metadata": {
        "id": "fnya9T_9VMW4"
      },
      "execution_count": 29,
      "outputs": []
    },
    {
      "cell_type": "code",
      "source": [
        "print(normalized_x_train.shape)\n",
        "print(normalized_x_test.shape)"
      ],
      "metadata": {
        "colab": {
          "base_uri": "https://localhost:8080/"
        },
        "id": "bxP0ewbyhpAm",
        "outputId": "c30b045b-2fb5-4538-c3a0-76d72d421e8a"
      },
      "execution_count": 30,
      "outputs": [
        {
          "output_type": "stream",
          "name": "stdout",
          "text": [
            "(1087, 11)\n",
            "(272, 11)\n"
          ]
        }
      ]
    },
    {
      "cell_type": "markdown",
      "source": [
        "Part A - Q2 E - Transform Labels into format acceptable by Neural Network"
      ],
      "metadata": {
        "id": "6QvcaOn5ySdB"
      }
    },
    {
      "cell_type": "code",
      "source": [
        "y_train_cat = to_categorical(y_train)\n",
        "y_test_cat = to_categorical(y_test)\n",
        "\n",
        "print(\"First 1 training lables as one-hot encoded vectors:\\n\", y_train[:1])"
      ],
      "metadata": {
        "colab": {
          "base_uri": "https://localhost:8080/"
        },
        "id": "WU_3kj9tKayE",
        "outputId": "8e28f8cf-9182-4f89-c590-501c5d4efd8f"
      },
      "execution_count": 31,
      "outputs": [
        {
          "output_type": "stream",
          "name": "stdout",
          "text": [
            "First 1 training lables as one-hot encoded vectors:\n",
            " 1031    7\n",
            "Name: Signal_Strength, dtype: int64\n"
          ]
        }
      ]
    },
    {
      "cell_type": "code",
      "source": [
        "print(y_train.shape)\n",
        "print(y_test.shape)"
      ],
      "metadata": {
        "colab": {
          "base_uri": "https://localhost:8080/"
        },
        "id": "xVXkiCekalQj",
        "outputId": "a475b0c4-be1d-4071-c6d4-f8218e05a110"
      },
      "execution_count": 32,
      "outputs": [
        {
          "output_type": "stream",
          "name": "stdout",
          "text": [
            "(1087,)\n",
            "(272,)\n"
          ]
        }
      ]
    },
    {
      "cell_type": "code",
      "source": [
        "print(y_train_cat.shape)\n",
        "print(y_test_cat.shape)"
      ],
      "metadata": {
        "colab": {
          "base_uri": "https://localhost:8080/"
        },
        "id": "slkq-4XY2tSZ",
        "outputId": "0fbea2d8-93de-4d4f-b7b4-5c965f280229"
      },
      "execution_count": 33,
      "outputs": [
        {
          "output_type": "stream",
          "name": "stdout",
          "text": [
            "(1087, 9)\n",
            "(272, 9)\n"
          ]
        }
      ]
    },
    {
      "cell_type": "markdown",
      "source": [
        "Part A - Q3 A - Design a Neural Network to train a classifier."
      ],
      "metadata": {
        "id": "VAoyBnyuBMdV"
      }
    },
    {
      "cell_type": "code",
      "source": [
        "model_signal_1 = Sequential()"
      ],
      "metadata": {
        "id": "z9qQsBP1kkf7"
      },
      "execution_count": 34,
      "outputs": []
    },
    {
      "cell_type": "code",
      "source": [
        "model_signal_1.add(Dense(200,activation = 'relu', input_dim = 11))\n",
        "model_signal_1.add(Dense(100,activation = 'relu'))\n",
        "model_signal_1.add(Dense(50, activation='relu'))\n",
        "model_signal_1.add(Dense(units=9, activation = 'softmax'))\n",
        "\n",
        "opt = optimizers.Adam(learning_rate= 0.01)\n",
        "model_signal_1.compile(optimizer=opt, loss='categorical_crossentropy', metrics=['accuracy'])\n"
      ],
      "metadata": {
        "id": "YagVNgoPrgZf"
      },
      "execution_count": 35,
      "outputs": []
    },
    {
      "cell_type": "code",
      "source": [
        "model_signal_1.summary()"
      ],
      "metadata": {
        "colab": {
          "base_uri": "https://localhost:8080/"
        },
        "id": "7v0P8Q41sEos",
        "outputId": "5fe51a4f-4137-4374-85f2-015d4218106a"
      },
      "execution_count": 36,
      "outputs": [
        {
          "output_type": "stream",
          "name": "stdout",
          "text": [
            "Model: \"sequential\"\n",
            "_________________________________________________________________\n",
            " Layer (type)                Output Shape              Param #   \n",
            "=================================================================\n",
            " dense (Dense)               (None, 200)               2400      \n",
            "                                                                 \n",
            " dense_1 (Dense)             (None, 100)               20100     \n",
            "                                                                 \n",
            " dense_2 (Dense)             (None, 50)                5050      \n",
            "                                                                 \n",
            " dense_3 (Dense)             (None, 9)                 459       \n",
            "                                                                 \n",
            "=================================================================\n",
            "Total params: 28009 (109.41 KB)\n",
            "Trainable params: 28009 (109.41 KB)\n",
            "Non-trainable params: 0 (0.00 Byte)\n",
            "_________________________________________________________________\n"
          ]
        }
      ]
    },
    {
      "cell_type": "markdown",
      "source": [
        "3.B.Train the classifier using previously designed Architecture"
      ],
      "metadata": {
        "id": "DMkfsjkndVWV"
      }
    },
    {
      "cell_type": "code",
      "source": [
        "history_signal_1 = model_signal_1.fit(normalized_x_train, y_train_cat, validation_split=0.2, batch_size=50, epochs=50, verbose=1)"
      ],
      "metadata": {
        "colab": {
          "base_uri": "https://localhost:8080/"
        },
        "id": "NiPOIBOisLvE",
        "outputId": "e0e348cb-a6d0-42f9-8448-a8c6368604ae"
      },
      "execution_count": 37,
      "outputs": [
        {
          "output_type": "stream",
          "name": "stdout",
          "text": [
            "Epoch 1/50\n",
            "18/18 [==============================] - 1s 13ms/step - loss: 1.4206 - accuracy: 0.4281 - val_loss: 1.2066 - val_accuracy: 0.5138\n",
            "Epoch 2/50\n",
            "18/18 [==============================] - 0s 4ms/step - loss: 1.1095 - accuracy: 0.5535 - val_loss: 1.0933 - val_accuracy: 0.5321\n",
            "Epoch 3/50\n",
            "18/18 [==============================] - 0s 4ms/step - loss: 1.0093 - accuracy: 0.5811 - val_loss: 1.0474 - val_accuracy: 0.5413\n",
            "Epoch 4/50\n",
            "18/18 [==============================] - 0s 4ms/step - loss: 0.9900 - accuracy: 0.5823 - val_loss: 1.1425 - val_accuracy: 0.4862\n",
            "Epoch 5/50\n",
            "18/18 [==============================] - 0s 4ms/step - loss: 0.9807 - accuracy: 0.5995 - val_loss: 1.0476 - val_accuracy: 0.5275\n",
            "Epoch 6/50\n",
            "18/18 [==============================] - 0s 3ms/step - loss: 0.9664 - accuracy: 0.5972 - val_loss: 1.1275 - val_accuracy: 0.5459\n",
            "Epoch 7/50\n",
            "18/18 [==============================] - 0s 4ms/step - loss: 0.9745 - accuracy: 0.5754 - val_loss: 1.0337 - val_accuracy: 0.5183\n",
            "Epoch 8/50\n",
            "18/18 [==============================] - 0s 4ms/step - loss: 0.9613 - accuracy: 0.5961 - val_loss: 1.0251 - val_accuracy: 0.5321\n",
            "Epoch 9/50\n",
            "18/18 [==============================] - 0s 4ms/step - loss: 0.9527 - accuracy: 0.5949 - val_loss: 1.0110 - val_accuracy: 0.5550\n",
            "Epoch 10/50\n",
            "18/18 [==============================] - 0s 3ms/step - loss: 0.9464 - accuracy: 0.5972 - val_loss: 0.9874 - val_accuracy: 0.5505\n",
            "Epoch 11/50\n",
            "18/18 [==============================] - 0s 4ms/step - loss: 0.9421 - accuracy: 0.5984 - val_loss: 1.0564 - val_accuracy: 0.5046\n",
            "Epoch 12/50\n",
            "18/18 [==============================] - 0s 4ms/step - loss: 0.9222 - accuracy: 0.6122 - val_loss: 0.9739 - val_accuracy: 0.5550\n",
            "Epoch 13/50\n",
            "18/18 [==============================] - 0s 4ms/step - loss: 0.9149 - accuracy: 0.5995 - val_loss: 0.9856 - val_accuracy: 0.5596\n",
            "Epoch 14/50\n",
            "18/18 [==============================] - 0s 5ms/step - loss: 0.9015 - accuracy: 0.6180 - val_loss: 1.0054 - val_accuracy: 0.5505\n",
            "Epoch 15/50\n",
            "18/18 [==============================] - 0s 4ms/step - loss: 0.9042 - accuracy: 0.6064 - val_loss: 0.9772 - val_accuracy: 0.5413\n",
            "Epoch 16/50\n",
            "18/18 [==============================] - 0s 4ms/step - loss: 0.9007 - accuracy: 0.6214 - val_loss: 0.9628 - val_accuracy: 0.5826\n",
            "Epoch 17/50\n",
            "18/18 [==============================] - 0s 5ms/step - loss: 0.8949 - accuracy: 0.6306 - val_loss: 0.9927 - val_accuracy: 0.5367\n",
            "Epoch 18/50\n",
            "18/18 [==============================] - 0s 4ms/step - loss: 0.8888 - accuracy: 0.6260 - val_loss: 0.9656 - val_accuracy: 0.5688\n",
            "Epoch 19/50\n",
            "18/18 [==============================] - 0s 4ms/step - loss: 0.8906 - accuracy: 0.6145 - val_loss: 0.9690 - val_accuracy: 0.5688\n",
            "Epoch 20/50\n",
            "18/18 [==============================] - 0s 4ms/step - loss: 0.8838 - accuracy: 0.6295 - val_loss: 0.9670 - val_accuracy: 0.5642\n",
            "Epoch 21/50\n",
            "18/18 [==============================] - 0s 4ms/step - loss: 0.8885 - accuracy: 0.6272 - val_loss: 1.0198 - val_accuracy: 0.5642\n",
            "Epoch 22/50\n",
            "18/18 [==============================] - 0s 4ms/step - loss: 0.8630 - accuracy: 0.6318 - val_loss: 0.9841 - val_accuracy: 0.5550\n",
            "Epoch 23/50\n",
            "18/18 [==============================] - 0s 4ms/step - loss: 0.8637 - accuracy: 0.6329 - val_loss: 0.9799 - val_accuracy: 0.5596\n",
            "Epoch 24/50\n",
            "18/18 [==============================] - 0s 4ms/step - loss: 0.8824 - accuracy: 0.6318 - val_loss: 0.9976 - val_accuracy: 0.5688\n",
            "Epoch 25/50\n",
            "18/18 [==============================] - 0s 4ms/step - loss: 0.8520 - accuracy: 0.6398 - val_loss: 1.0032 - val_accuracy: 0.5734\n",
            "Epoch 26/50\n",
            "18/18 [==============================] - 0s 4ms/step - loss: 0.8567 - accuracy: 0.6260 - val_loss: 0.9822 - val_accuracy: 0.5780\n",
            "Epoch 27/50\n",
            "18/18 [==============================] - 0s 4ms/step - loss: 0.8654 - accuracy: 0.6133 - val_loss: 1.0240 - val_accuracy: 0.5642\n",
            "Epoch 28/50\n",
            "18/18 [==============================] - 0s 4ms/step - loss: 0.8374 - accuracy: 0.6456 - val_loss: 0.9995 - val_accuracy: 0.5459\n",
            "Epoch 29/50\n",
            "18/18 [==============================] - 0s 4ms/step - loss: 0.8333 - accuracy: 0.6421 - val_loss: 0.9761 - val_accuracy: 0.5642\n",
            "Epoch 30/50\n",
            "18/18 [==============================] - 0s 4ms/step - loss: 0.8259 - accuracy: 0.6341 - val_loss: 1.0108 - val_accuracy: 0.5688\n",
            "Epoch 31/50\n",
            "18/18 [==============================] - 0s 5ms/step - loss: 0.8297 - accuracy: 0.6444 - val_loss: 1.0202 - val_accuracy: 0.6009\n",
            "Epoch 32/50\n",
            "18/18 [==============================] - 0s 4ms/step - loss: 0.8164 - accuracy: 0.6398 - val_loss: 1.1322 - val_accuracy: 0.5183\n",
            "Epoch 33/50\n",
            "18/18 [==============================] - 0s 4ms/step - loss: 0.8398 - accuracy: 0.6467 - val_loss: 1.0224 - val_accuracy: 0.5367\n",
            "Epoch 34/50\n",
            "18/18 [==============================] - 0s 4ms/step - loss: 0.8416 - accuracy: 0.6421 - val_loss: 1.0656 - val_accuracy: 0.5780\n",
            "Epoch 35/50\n",
            "18/18 [==============================] - 0s 4ms/step - loss: 0.8326 - accuracy: 0.6352 - val_loss: 1.0429 - val_accuracy: 0.5780\n",
            "Epoch 36/50\n",
            "18/18 [==============================] - 0s 4ms/step - loss: 0.8112 - accuracy: 0.6467 - val_loss: 1.0875 - val_accuracy: 0.5505\n",
            "Epoch 37/50\n",
            "18/18 [==============================] - 0s 5ms/step - loss: 0.8084 - accuracy: 0.6398 - val_loss: 1.0606 - val_accuracy: 0.5321\n",
            "Epoch 38/50\n",
            "18/18 [==============================] - 0s 5ms/step - loss: 0.8094 - accuracy: 0.6456 - val_loss: 1.0730 - val_accuracy: 0.5734\n",
            "Epoch 39/50\n",
            "18/18 [==============================] - 0s 4ms/step - loss: 0.8076 - accuracy: 0.6536 - val_loss: 1.0729 - val_accuracy: 0.5596\n",
            "Epoch 40/50\n",
            "18/18 [==============================] - 0s 5ms/step - loss: 0.7927 - accuracy: 0.6628 - val_loss: 1.1019 - val_accuracy: 0.5642\n",
            "Epoch 41/50\n",
            "18/18 [==============================] - 0s 4ms/step - loss: 0.7902 - accuracy: 0.6720 - val_loss: 1.0752 - val_accuracy: 0.5459\n",
            "Epoch 42/50\n",
            "18/18 [==============================] - 0s 4ms/step - loss: 0.8014 - accuracy: 0.6640 - val_loss: 1.0530 - val_accuracy: 0.5229\n",
            "Epoch 43/50\n",
            "18/18 [==============================] - 0s 3ms/step - loss: 0.8250 - accuracy: 0.6525 - val_loss: 1.0953 - val_accuracy: 0.5275\n",
            "Epoch 44/50\n",
            "18/18 [==============================] - 0s 4ms/step - loss: 0.7804 - accuracy: 0.6525 - val_loss: 1.1184 - val_accuracy: 0.5642\n",
            "Epoch 45/50\n",
            "18/18 [==============================] - 0s 4ms/step - loss: 0.7705 - accuracy: 0.6686 - val_loss: 1.2887 - val_accuracy: 0.5092\n",
            "Epoch 46/50\n",
            "18/18 [==============================] - 0s 3ms/step - loss: 0.8147 - accuracy: 0.6467 - val_loss: 1.0938 - val_accuracy: 0.5734\n",
            "Epoch 47/50\n",
            "18/18 [==============================] - 0s 3ms/step - loss: 0.7864 - accuracy: 0.6605 - val_loss: 1.1302 - val_accuracy: 0.5459\n",
            "Epoch 48/50\n",
            "18/18 [==============================] - 0s 4ms/step - loss: 0.7892 - accuracy: 0.6651 - val_loss: 1.1000 - val_accuracy: 0.5734\n",
            "Epoch 49/50\n",
            "18/18 [==============================] - 0s 4ms/step - loss: 0.7573 - accuracy: 0.6858 - val_loss: 1.1429 - val_accuracy: 0.5183\n",
            "Epoch 50/50\n",
            "18/18 [==============================] - 0s 4ms/step - loss: 0.7941 - accuracy: 0.6582 - val_loss: 1.1084 - val_accuracy: 0.5596\n"
          ]
        }
      ]
    },
    {
      "cell_type": "markdown",
      "source": [
        "3.C.Plot 2 separate visuals\n",
        "i. Training Loss and Validation Loss\n",
        "ii. Training Accuracy and Validation Accuracy\n"
      ],
      "metadata": {
        "id": "QU2ABQuVdfTq"
      }
    },
    {
      "cell_type": "code",
      "source": [
        "train_score = model_signal_1.evaluate(normalized_x_train, y_train_cat, verbose=1)\n",
        "print(train_score)\n",
        "\n",
        "test_score = model_signal_1.evaluate(normalized_x_test, y_test_cat, verbose=1)\n",
        "print( test_score)"
      ],
      "metadata": {
        "colab": {
          "base_uri": "https://localhost:8080/"
        },
        "id": "CLu20pyOw4Aj",
        "outputId": "76c2f9c1-87b5-4b54-9bf9-cb65caad153c"
      },
      "execution_count": 199,
      "outputs": [
        {
          "output_type": "stream",
          "name": "stdout",
          "text": [
            "34/34 [==============================] - 0s 1ms/step - loss: 0.8231 - accuracy: 0.6486\n",
            "[0.8231303691864014, 0.6485740542411804]\n",
            "9/9 [==============================] - 0s 2ms/step - loss: 1.1382 - accuracy: 0.5515\n",
            "[1.1382195949554443, 0.5514705777168274]\n"
          ]
        }
      ]
    },
    {
      "cell_type": "code",
      "source": [
        "# Capturing learning history per epoch\n",
        "hist_1  = pd.DataFrame(history_signal_1.history)\n",
        "hist_1['epoch'] = history_signal_1.epoch\n",
        "\n",
        "# Plotting accuracy at different epochs\n",
        "plt.plot(hist_1['loss'])\n",
        "plt.plot(hist_1['val_loss'])\n",
        "plt.legend((\"train\" , \"valid\") , loc =0)\n",
        "\n",
        "#Printing results\n",
        "results_signal_1 = model_signal_1.evaluate(normalized_x_test, y_test_cat)"
      ],
      "metadata": {
        "colab": {
          "base_uri": "https://localhost:8080/",
          "height": 447
        },
        "id": "6Q7sjvjqpWOF",
        "outputId": "8d8a2f13-bcc7-4df9-b688-d19eba5fa4e2"
      },
      "execution_count": 38,
      "outputs": [
        {
          "output_type": "stream",
          "name": "stdout",
          "text": [
            "9/9 [==============================] - 0s 2ms/step - loss: 1.1382 - accuracy: 0.5515\n"
          ]
        },
        {
          "output_type": "display_data",
          "data": {
            "text/plain": [
              "<Figure size 640x480 with 1 Axes>"
            ],
            "image/png": "[encoded data removed]"
          },
          "metadata": {}
        }
      ]
    },
    {
      "cell_type": "code",
      "source": [
        "# Plotting accuracy at different epochs\n",
        "plt.plot(history_signal_1.history['accuracy'])\n",
        "plt.plot(history_signal_1.history['val_accuracy'])\n",
        "plt.title('model_accuracy')\n",
        "plt.ylabel('accuracy')\n",
        "plt.xlabel('epoch')\n",
        "plt.legend((\"train\" , \"valid\") , loc ='best')\n",
        "plt.show()"
      ],
      "metadata": {
        "colab": {
          "base_uri": "https://localhost:8080/",
          "height": 472
        },
        "id": "zoyVFlKPdJSg",
        "outputId": "8b526839-d5de-4023-93da-d0ae294a1658"
      },
      "execution_count": 39,
      "outputs": [
        {
          "output_type": "display_data",
          "data": {
            "text/plain": [
              "<Figure size 640x480 with 1 Axes>"
            ],
            "image/png": "[encoded data removed]"
          },
          "metadata": {}
        }
      ]
    },
    {
      "cell_type": "code",
      "source": [
        "y_pred=model_signal_1.predict(normalized_x_test)\n",
        "y_pred[0]"
      ],
      "metadata": {
        "colab": {
          "base_uri": "https://localhost:8080/"
        },
        "id": "V_auNZyRel1I",
        "outputId": "f2683b0d-9ec6-4093-9d69-a2164dd34298"
      },
      "execution_count": 40,
      "outputs": [
        {
          "output_type": "stream",
          "name": "stdout",
          "text": [
            "9/9 [==============================] - 0s 2ms/step\n"
          ]
        },
        {
          "output_type": "execute_result",
          "data": {
            "text/plain": [
              "array([9.4152902e-06, 5.8857327e-06, 9.6154408e-06, 2.6752271e-06,\n",
              "       4.2607024e-04, 1.2833513e-01, 5.7608092e-01, 2.7767166e-01,\n",
              "       1.7458610e-02], dtype=float32)"
            ]
          },
          "metadata": {},
          "execution_count": 40
        }
      ]
    },
    {
      "cell_type": "markdown",
      "source": [
        "3.D. Design new architecture/update existing architecture in attempt to improve the performance of the model."
      ],
      "metadata": {
        "id": "0BLyN52xdr51"
      }
    },
    {
      "cell_type": "markdown",
      "source": [
        "upsampling data using SMOTE"
      ],
      "metadata": {
        "id": "wVv129g9nq5A"
      }
    },
    {
      "cell_type": "code",
      "source": [
        "sm = SMOTE(sampling_strategy={3:200,4:200,5:469,6:469, 7:300,8:200})\n",
        "\n",
        "X_train_res, y_train_res=sm.fit_resample(normalized_x_train, y_train)\n",
        "\n",
        "#After upsampling\n",
        "print(X_train_res.shape)\n",
        "print(y_train_res.shape)"
      ],
      "metadata": {
        "colab": {
          "base_uri": "https://localhost:8080/"
        },
        "id": "wCL31osAnqF1",
        "outputId": "d9619fbd-cb7a-46a9-853b-0a44bc0d4602"
      },
      "execution_count": 41,
      "outputs": [
        {
          "output_type": "stream",
          "name": "stdout",
          "text": [
            "(1838, 11)\n",
            "(1838,)\n"
          ]
        }
      ]
    },
    {
      "cell_type": "code",
      "source": [
        "y_train_res_cat = to_categorical(y_train_res)\n"
      ],
      "metadata": {
        "id": "3bveJfyP9FB8"
      },
      "execution_count": 43,
      "outputs": []
    },
    {
      "cell_type": "code",
      "source": [
        "y_train_res_cat.shape"
      ],
      "metadata": {
        "colab": {
          "base_uri": "https://localhost:8080/"
        },
        "id": "4eToPf9d9XNN",
        "outputId": "f6c444f0-c805-4d8d-e28c-8e58d2b7fc9e"
      },
      "execution_count": 44,
      "outputs": [
        {
          "output_type": "execute_result",
          "data": {
            "text/plain": [
              "(1838, 9)"
            ]
          },
          "metadata": {},
          "execution_count": 44
        }
      ]
    },
    {
      "cell_type": "code",
      "source": [
        "y_test_cat.shape"
      ],
      "metadata": {
        "colab": {
          "base_uri": "https://localhost:8080/"
        },
        "id": "iOVXAiLKMB84",
        "outputId": "f67512cd-b784-41a8-a47c-17a0cb5650de"
      },
      "execution_count": 45,
      "outputs": [
        {
          "output_type": "execute_result",
          "data": {
            "text/plain": [
              "(272, 9)"
            ]
          },
          "metadata": {},
          "execution_count": 45
        }
      ]
    },
    {
      "cell_type": "code",
      "source": [
        "normalized_x_test.shape"
      ],
      "metadata": {
        "colab": {
          "base_uri": "https://localhost:8080/"
        },
        "id": "UCZQHSu7MF8Y",
        "outputId": "2835963b-8ffc-4574-ed8a-2d3a820e5cf8"
      },
      "execution_count": 46,
      "outputs": [
        {
          "output_type": "execute_result",
          "data": {
            "text/plain": [
              "(272, 11)"
            ]
          },
          "metadata": {},
          "execution_count": 46
        }
      ]
    },
    {
      "cell_type": "markdown",
      "source": [
        "Adding grid search cv to model"
      ],
      "metadata": {
        "id": "xh2qC8LEiCTc"
      }
    },
    {
      "cell_type": "code",
      "source": [
        "def create_model_v5(lr):\n",
        "    model = Sequential()\n",
        "    model.add(Dense(256,activation='relu',input_dim = X_train_res.shape[1]))\n",
        "    model.add(Dropout(0.2))\n",
        "    model.add(Dense(128,activation='relu'))\n",
        "    model.add(Dropout(0.2))\n",
        "    model.add(Dense(64,activation='relu'))\n",
        "    model.add(Dropout(0.2))\n",
        "    model.add(Dense(32,activation='relu'))\n",
        "    model.add(Dense(9, activation='softmax'))\n",
        "\n",
        "    #compile model\n",
        "    optimizer = tf.keras.optimizers.Adam(learning_rate=lr)\n",
        "    model.compile(optimizer = optimizer,loss = 'categorical_crossentropy', metrics = ['accuracy'])\n",
        "    return model"
      ],
      "metadata": {
        "id": "LSkfumc7lJib"
      },
      "execution_count": 151,
      "outputs": []
    },
    {
      "cell_type": "code",
      "source": [
        "keras_estimator = KerasRegressor(model=create_model_v5, verbose=1, lr=0.01)\n",
        "\n",
        "# define the grid search parameters\n",
        "param_grid = {\n",
        "    'lr':[0.1,0.01,0.001]\n",
        "    }\n",
        "\n",
        "kfold_splits = 3\n",
        "grid = GridSearchCV(estimator=keras_estimator,\n",
        "                    verbose=1,\n",
        "                    cv=kfold_splits,\n",
        "                    param_grid=param_grid,n_jobs=-1)"
      ],
      "metadata": {
        "id": "aMIPKz5Uk9Dy"
      },
      "execution_count": 152,
      "outputs": []
    },
    {
      "cell_type": "code",
      "source": [
        "grid_result = grid.fit(X_train_res, y_train_res_cat,validation_split=0.2,verbose=1)"
      ],
      "metadata": {
        "colab": {
          "base_uri": "https://localhost:8080/"
        },
        "id": "GXmN5ajzHMoT",
        "outputId": "37c204ba-9d7f-4868-e903-d1c5742d174c"
      },
      "execution_count": 153,
      "outputs": [
        {
          "output_type": "stream",
          "name": "stdout",
          "text": [
            "Fitting 3 folds for each of 3 candidates, totalling 9 fits\n",
            "46/46 [==============================] - 1s 5ms/step - loss: 1.8474 - accuracy: 0.2803 - val_loss: 3.1803 - val_accuracy: 0.0543\n"
          ]
        }
      ]
    },
    {
      "cell_type": "code",
      "source": [
        "estimator_v5=create_model_v5(lr=grid_result.best_params_['lr'])\n",
        "\n",
        "estimator_v5.summary()"
      ],
      "metadata": {
        "colab": {
          "base_uri": "https://localhost:8080/"
        },
        "id": "R9eaf4WHk-Lf",
        "outputId": "471bdc9e-1f97-45eb-cf71-6345811db7e3"
      },
      "execution_count": 154,
      "outputs": [
        {
          "output_type": "stream",
          "name": "stdout",
          "text": [
            "Model: \"sequential_25\"\n",
            "_________________________________________________________________\n",
            " Layer (type)                Output Shape              Param #   \n",
            "=================================================================\n",
            " dense_117 (Dense)           (None, 256)               3072      \n",
            "                                                                 \n",
            " dropout_40 (Dropout)        (None, 256)               0         \n",
            "                                                                 \n",
            " dense_118 (Dense)           (None, 128)               32896     \n",
            "                                                                 \n",
            " dropout_41 (Dropout)        (None, 128)               0         \n",
            "                                                                 \n",
            " dense_119 (Dense)           (None, 64)                8256      \n",
            "                                                                 \n",
            " dropout_42 (Dropout)        (None, 64)                0         \n",
            "                                                                 \n",
            " dense_120 (Dense)           (None, 32)                2080      \n",
            "                                                                 \n",
            " dense_121 (Dense)           (None, 9)                 297       \n",
            "                                                                 \n",
            "=================================================================\n",
            "Total params: 46601 (182.04 KB)\n",
            "Trainable params: 46601 (182.04 KB)\n",
            "Non-trainable params: 0 (0.00 Byte)\n",
            "_________________________________________________________________\n"
          ]
        }
      ]
    },
    {
      "cell_type": "code",
      "source": [
        "print(grid_result.best_params_['lr'])"
      ],
      "metadata": {
        "colab": {
          "base_uri": "https://localhost:8080/"
        },
        "id": "LjVA2K7qPF8a",
        "outputId": "764fa0bb-99b1-4916-9980-660fd3a875ab"
      },
      "execution_count": 155,
      "outputs": [
        {
          "output_type": "stream",
          "name": "stdout",
          "text": [
            "0.001\n"
          ]
        }
      ]
    },
    {
      "cell_type": "code",
      "source": [
        "optimizer = tf.keras.optimizers.Adam(grid_result.best_params_['lr'])\n",
        "estimator_v5.compile(loss='categorical_crossentropy',optimizer=optimizer,metrics=['accuracy'])\n",
        "history_5=estimator_v5.fit(X_train_res, y_train_res_cat, epochs=50, batch_size = 50, verbose=1,validation_split=0.2)"
      ],
      "metadata": {
        "colab": {
          "base_uri": "https://localhost:8080/"
        },
        "id": "hSjcz0HPk-nf",
        "outputId": "8eb99f67-ae82-451a-f372-608629bb9332"
      },
      "execution_count": 158,
      "outputs": [
        {
          "output_type": "stream",
          "name": "stdout",
          "text": [
            "Epoch 1/50\n",
            "30/30 [==============================] - 1s 7ms/step - loss: 0.7886 - accuracy: 0.6639 - val_loss: 1.5371 - val_accuracy: 0.3152\n",
            "Epoch 2/50\n",
            "30/30 [==============================] - 0s 3ms/step - loss: 0.7787 - accuracy: 0.6599 - val_loss: 1.4614 - val_accuracy: 0.3043\n",
            "Epoch 3/50\n",
            "30/30 [==============================] - 0s 3ms/step - loss: 0.7934 - accuracy: 0.6707 - val_loss: 1.5427 - val_accuracy: 0.2772\n",
            "Epoch 4/50\n",
            "30/30 [==============================] - 0s 4ms/step - loss: 0.7761 - accuracy: 0.6850 - val_loss: 1.7649 - val_accuracy: 0.2120\n",
            "Epoch 5/50\n",
            "30/30 [==============================] - 0s 3ms/step - loss: 0.7855 - accuracy: 0.6653 - val_loss: 1.5366 - val_accuracy: 0.2636\n",
            "Epoch 6/50\n",
            "30/30 [==============================] - 0s 4ms/step - loss: 0.7680 - accuracy: 0.6803 - val_loss: 1.6294 - val_accuracy: 0.2582\n",
            "Epoch 7/50\n",
            "30/30 [==============================] - 0s 4ms/step - loss: 0.7444 - accuracy: 0.6959 - val_loss: 1.5699 - val_accuracy: 0.2745\n",
            "Epoch 8/50\n",
            "30/30 [==============================] - 0s 4ms/step - loss: 0.7627 - accuracy: 0.6816 - val_loss: 1.5197 - val_accuracy: 0.3071\n",
            "Epoch 9/50\n",
            "30/30 [==============================] - 0s 3ms/step - loss: 0.7517 - accuracy: 0.6741 - val_loss: 1.6730 - val_accuracy: 0.2364\n",
            "Epoch 10/50\n",
            "30/30 [==============================] - 0s 3ms/step - loss: 0.7675 - accuracy: 0.6782 - val_loss: 1.7691 - val_accuracy: 0.2120\n",
            "Epoch 11/50\n",
            "30/30 [==============================] - 0s 3ms/step - loss: 0.7648 - accuracy: 0.6694 - val_loss: 1.6982 - val_accuracy: 0.2038\n",
            "Epoch 12/50\n",
            "30/30 [==============================] - 0s 4ms/step - loss: 0.7462 - accuracy: 0.6776 - val_loss: 1.6805 - val_accuracy: 0.2283\n",
            "Epoch 13/50\n",
            "30/30 [==============================] - 0s 4ms/step - loss: 0.7466 - accuracy: 0.6864 - val_loss: 1.6126 - val_accuracy: 0.2935\n",
            "Epoch 14/50\n",
            "30/30 [==============================] - 0s 3ms/step - loss: 0.7461 - accuracy: 0.6796 - val_loss: 1.6741 - val_accuracy: 0.2826\n",
            "Epoch 15/50\n",
            "30/30 [==============================] - 0s 3ms/step - loss: 0.7036 - accuracy: 0.7020 - val_loss: 1.4493 - val_accuracy: 0.3288\n",
            "Epoch 16/50\n",
            "30/30 [==============================] - 0s 3ms/step - loss: 0.7623 - accuracy: 0.6789 - val_loss: 1.6575 - val_accuracy: 0.2418\n",
            "Epoch 17/50\n",
            "30/30 [==============================] - 0s 3ms/step - loss: 0.7272 - accuracy: 0.6830 - val_loss: 1.6471 - val_accuracy: 0.2473\n",
            "Epoch 18/50\n",
            "30/30 [==============================] - 0s 3ms/step - loss: 0.7266 - accuracy: 0.6905 - val_loss: 1.4960 - val_accuracy: 0.2690\n",
            "Epoch 19/50\n",
            "30/30 [==============================] - 0s 3ms/step - loss: 0.7279 - accuracy: 0.6959 - val_loss: 1.7501 - val_accuracy: 0.2038\n",
            "Epoch 20/50\n",
            "30/30 [==============================] - 0s 3ms/step - loss: 0.7357 - accuracy: 0.6844 - val_loss: 1.5797 - val_accuracy: 0.2663\n",
            "Epoch 21/50\n",
            "30/30 [==============================] - 0s 3ms/step - loss: 0.7189 - accuracy: 0.7014 - val_loss: 1.6082 - val_accuracy: 0.2609\n",
            "Epoch 22/50\n",
            "30/30 [==============================] - 0s 3ms/step - loss: 0.7149 - accuracy: 0.6939 - val_loss: 1.6539 - val_accuracy: 0.2364\n",
            "Epoch 23/50\n",
            "30/30 [==============================] - 0s 4ms/step - loss: 0.7157 - accuracy: 0.6884 - val_loss: 1.9847 - val_accuracy: 0.1603\n",
            "Epoch 24/50\n",
            "30/30 [==============================] - 0s 3ms/step - loss: 0.7049 - accuracy: 0.6959 - val_loss: 1.6258 - val_accuracy: 0.2310\n",
            "Epoch 25/50\n",
            "30/30 [==============================] - 0s 3ms/step - loss: 0.7138 - accuracy: 0.6891 - val_loss: 1.7350 - val_accuracy: 0.2120\n",
            "Epoch 26/50\n",
            "30/30 [==============================] - 0s 3ms/step - loss: 0.7197 - accuracy: 0.7007 - val_loss: 1.6780 - val_accuracy: 0.2337\n",
            "Epoch 27/50\n",
            "30/30 [==============================] - 0s 3ms/step - loss: 0.7004 - accuracy: 0.6986 - val_loss: 1.5335 - val_accuracy: 0.2908\n",
            "Epoch 28/50\n",
            "30/30 [==============================] - 0s 4ms/step - loss: 0.6855 - accuracy: 0.7041 - val_loss: 1.7693 - val_accuracy: 0.2228\n",
            "Epoch 29/50\n",
            "30/30 [==============================] - 0s 3ms/step - loss: 0.7043 - accuracy: 0.7007 - val_loss: 1.5517 - val_accuracy: 0.2609\n",
            "Epoch 30/50\n",
            "30/30 [==============================] - 0s 4ms/step - loss: 0.7073 - accuracy: 0.7020 - val_loss: 1.5180 - val_accuracy: 0.2690\n",
            "Epoch 31/50\n",
            "30/30 [==============================] - 0s 4ms/step - loss: 0.7020 - accuracy: 0.6973 - val_loss: 1.4983 - val_accuracy: 0.3016\n",
            "Epoch 32/50\n",
            "30/30 [==============================] - 0s 4ms/step - loss: 0.6890 - accuracy: 0.6973 - val_loss: 1.4492 - val_accuracy: 0.3207\n",
            "Epoch 33/50\n",
            "30/30 [==============================] - 0s 3ms/step - loss: 0.6923 - accuracy: 0.7095 - val_loss: 1.4812 - val_accuracy: 0.2962\n",
            "Epoch 34/50\n",
            "30/30 [==============================] - 0s 3ms/step - loss: 0.6994 - accuracy: 0.7014 - val_loss: 1.3649 - val_accuracy: 0.3125\n",
            "Epoch 35/50\n",
            "30/30 [==============================] - 0s 3ms/step - loss: 0.6825 - accuracy: 0.7027 - val_loss: 1.4815 - val_accuracy: 0.2826\n",
            "Epoch 36/50\n",
            "30/30 [==============================] - 0s 3ms/step - loss: 0.6871 - accuracy: 0.7027 - val_loss: 1.5321 - val_accuracy: 0.2663\n",
            "Epoch 37/50\n",
            "30/30 [==============================] - 0s 3ms/step - loss: 0.6736 - accuracy: 0.7082 - val_loss: 1.3738 - val_accuracy: 0.3152\n",
            "Epoch 38/50\n",
            "30/30 [==============================] - 0s 3ms/step - loss: 0.6849 - accuracy: 0.7129 - val_loss: 1.4153 - val_accuracy: 0.3016\n",
            "Epoch 39/50\n",
            "30/30 [==============================] - 0s 3ms/step - loss: 0.6789 - accuracy: 0.6993 - val_loss: 1.5105 - val_accuracy: 0.2799\n",
            "Epoch 40/50\n",
            "30/30 [==============================] - 0s 4ms/step - loss: 0.6559 - accuracy: 0.7156 - val_loss: 1.4873 - val_accuracy: 0.2690\n",
            "Epoch 41/50\n",
            "30/30 [==============================] - 0s 6ms/step - loss: 0.6935 - accuracy: 0.7088 - val_loss: 1.5231 - val_accuracy: 0.3016\n",
            "Epoch 42/50\n",
            "30/30 [==============================] - 0s 5ms/step - loss: 0.6737 - accuracy: 0.7129 - val_loss: 1.4570 - val_accuracy: 0.3071\n",
            "Epoch 43/50\n",
            "30/30 [==============================] - 0s 4ms/step - loss: 0.6609 - accuracy: 0.7041 - val_loss: 1.5493 - val_accuracy: 0.2473\n",
            "Epoch 44/50\n",
            "30/30 [==============================] - 0s 4ms/step - loss: 0.6688 - accuracy: 0.7041 - val_loss: 1.6017 - val_accuracy: 0.2663\n",
            "Epoch 45/50\n",
            "30/30 [==============================] - 0s 4ms/step - loss: 0.6647 - accuracy: 0.7211 - val_loss: 1.4679 - val_accuracy: 0.2690\n",
            "Epoch 46/50\n",
            "30/30 [==============================] - 0s 4ms/step - loss: 0.6424 - accuracy: 0.7211 - val_loss: 1.4041 - val_accuracy: 0.3071\n",
            "Epoch 47/50\n",
            "30/30 [==============================] - 0s 4ms/step - loss: 0.6456 - accuracy: 0.7184 - val_loss: 1.4738 - val_accuracy: 0.2908\n",
            "Epoch 48/50\n",
            "30/30 [==============================] - 0s 4ms/step - loss: 0.6487 - accuracy: 0.7156 - val_loss: 1.4163 - val_accuracy: 0.2799\n",
            "Epoch 49/50\n",
            "30/30 [==============================] - 0s 5ms/step - loss: 0.6591 - accuracy: 0.7204 - val_loss: 1.3645 - val_accuracy: 0.3234\n",
            "Epoch 50/50\n",
            "30/30 [==============================] - 0s 4ms/step - loss: 0.6640 - accuracy: 0.7150 - val_loss: 1.3232 - val_accuracy: 0.3261\n"
          ]
        }
      ]
    },
    {
      "cell_type": "code",
      "source": [
        "score = estimator_v5.evaluate(X_train_res, y_train_res_cat, verbose=1)\n",
        "print(score)\n",
        "\n",
        "score_t = estimator_v5.evaluate(normalized_x_test, y_test_cat, verbose=1)\n",
        "print( score_t)"
      ],
      "metadata": {
        "colab": {
          "base_uri": "https://localhost:8080/"
        },
        "id": "dwYSuPKgOFXf",
        "outputId": "acb288bc-1975-4f2b-8abc-d71afd524e56"
      },
      "execution_count": 159,
      "outputs": [
        {
          "output_type": "stream",
          "name": "stdout",
          "text": [
            "58/58 [==============================] - 0s 1ms/step - loss: 0.7294 - accuracy: 0.6681\n",
            "[0.7293527126312256, 0.6681175231933594]\n",
            "9/9 [==============================] - 0s 2ms/step - loss: 1.3600 - accuracy: 0.5184\n",
            "[1.359991192817688, 0.5183823704719543]\n"
          ]
        }
      ]
    },
    {
      "cell_type": "code",
      "source": [
        "#Plotting Train Loss vs Validation Loss\n",
        "plt.plot(history_5.history['loss'])\n",
        "plt.plot(history_5.history['val_loss'])\n",
        "plt.title('model loss')\n",
        "plt.ylabel('Loss')\n",
        "plt.xlabel('Epoch')\n",
        "plt.legend(['train', 'validation'], loc='upper left')\n",
        "plt.show()"
      ],
      "metadata": {
        "colab": {
          "base_uri": "https://localhost:8080/",
          "height": 472
        },
        "id": "n_vGsbE9ebdV",
        "outputId": "0a2a1812-7007-419a-9080-b2a1ee223385"
      },
      "execution_count": 160,
      "outputs": [
        {
          "output_type": "display_data",
          "data": {
            "text/plain": [
              "<Figure size 640x480 with 1 Axes>"
            ],
            "image/png": "[encoded data removed]"
          },
          "metadata": {}
        }
      ]
    },
    {
      "cell_type": "code",
      "source": [
        "# Plotting accuracy at different epochs\n",
        "plt.plot(history_5.history['accuracy'])\n",
        "plt.plot(history_5.history['val_accuracy'])\n",
        "plt.title('model_accuracy')\n",
        "plt.ylabel('accuracy')\n",
        "plt.xlabel('epoch')\n",
        "plt.legend((\"train\" , \"valid\") , loc ='best')\n",
        "plt.show()"
      ],
      "metadata": {
        "colab": {
          "base_uri": "https://localhost:8080/",
          "height": 472
        },
        "id": "2goij_E7QMnv",
        "outputId": "4e914383-06bc-48d1-f3b1-a13087eca529"
      },
      "execution_count": 161,
      "outputs": [
        {
          "output_type": "display_data",
          "data": {
            "text/plain": [
              "<Figure size 640x480 with 1 Axes>"
            ],
            "image/png": "[encoded data removed]"
          },
          "metadata": {}
        }
      ]
    },
    {
      "cell_type": "markdown",
      "source": [
        "Applying grid search cv, upsampling, dropout's none of them has helped. The accuracy of test data has infact dropped from 55 to 52 %.\n",
        "\n",
        "Model 1\n",
        "Training Accuracy - 64.86%\n",
        "Testing Accuracy - 55.15%\n",
        "\n",
        "Model 2\n",
        "Training Accuracy - 66.81%\n",
        "Testing Accuracy - 51.84%\n",
        "\n",
        "On trying batch normalization on model, the test accuracy had not improved."
      ],
      "metadata": {
        "id": "3pd5aTnaraje"
      }
    },
    {
      "cell_type": "markdown",
      "source": [
        "## **PART B**"
      ],
      "metadata": {
        "id": "07oC7pVb_yrj"
      }
    },
    {
      "cell_type": "markdown",
      "source": [
        "Part B - Q1 A - Read the .h5 file and assign to a variable."
      ],
      "metadata": {
        "id": "oGwxssNZRgXg"
      }
    },
    {
      "cell_type": "code",
      "source": [
        "!pip install h5py"
      ],
      "metadata": {
        "colab": {
          "base_uri": "https://localhost:8080/"
        },
        "id": "mc5U7JpCi0Ot",
        "outputId": "c64e0c7e-ab01-42b6-f8b5-58c4137c6234"
      },
      "execution_count": 162,
      "outputs": [
        {
          "output_type": "stream",
          "name": "stdout",
          "text": [
            "Requirement already satisfied: h5py in /usr/local/lib/python3.10/dist-packages (3.9.0)\n",
            "Requirement already satisfied: numpy>=1.17.3 in /usr/local/lib/python3.10/dist-packages (from h5py) (1.23.5)\n"
          ]
        }
      ]
    },
    {
      "cell_type": "code",
      "source": [
        "import h5py\n",
        "%cd /content/gdrive/My Drive/Colab Notebooks/"
      ],
      "metadata": {
        "colab": {
          "base_uri": "https://localhost:8080/"
        },
        "id": "RlE4RqNXT3y6",
        "outputId": "c2e305ba-c0c7-4c7c-f4f8-bb7a91801c27"
      },
      "execution_count": 163,
      "outputs": [
        {
          "output_type": "stream",
          "name": "stdout",
          "text": [
            "/content/gdrive/My Drive/Colab Notebooks\n"
          ]
        }
      ]
    },
    {
      "cell_type": "code",
      "source": [
        "f1=h5py.File('Autonomous_Vehicles_SVHN_single_grey1.h5', 'r')"
      ],
      "metadata": {
        "id": "Qa0FEhwbrhgy"
      },
      "execution_count": 164,
      "outputs": []
    },
    {
      "cell_type": "markdown",
      "source": [
        "Part B - Q1 B - Print all the keys from the .h5 file."
      ],
      "metadata": {
        "id": "CG5cp1RYRlGN"
      }
    },
    {
      "cell_type": "code",
      "source": [
        "f1.keys()"
      ],
      "metadata": {
        "colab": {
          "base_uri": "https://localhost:8080/"
        },
        "id": "AR0ZPAEIYLjy",
        "outputId": "463ba915-34fd-4234-c53a-bee000251a4d"
      },
      "execution_count": 165,
      "outputs": [
        {
          "output_type": "execute_result",
          "data": {
            "text/plain": [
              "<KeysViewHDF5 ['X_test', 'X_train', 'X_val', 'y_test', 'y_train', 'y_val']>"
            ]
          },
          "metadata": {},
          "execution_count": 165
        }
      ]
    },
    {
      "cell_type": "markdown",
      "source": [
        "Part B - Q1 C - Split the data into X_train, X_test, Y_train, Y_test"
      ],
      "metadata": {
        "id": "6hd6LL0dRlyC"
      }
    },
    {
      "cell_type": "code",
      "source": [
        "X_train_svhn=f1['X_train'][:]\n",
        "X_test_svhn=f1['X_test'][:]\n",
        "y_train_svhn=f1['y_train'][:]\n",
        "y_test_svhn=f1['y_test'][:]"
      ],
      "metadata": {
        "id": "KSMzv3DX_9iY"
      },
      "execution_count": 166,
      "outputs": []
    },
    {
      "cell_type": "markdown",
      "source": [
        "Part B - Q2 A - Print shape of all the 4 data split into x, y, train, test to verify if x & y is in sync."
      ],
      "metadata": {
        "id": "vv7-H1BVRoDh"
      }
    },
    {
      "cell_type": "code",
      "source": [
        "print(X_train_svhn.shape)\n",
        "print(X_test_svhn.shape)\n",
        "print(y_test_svhn.shape)\n",
        "print(y_train_svhn.shape)"
      ],
      "metadata": {
        "colab": {
          "base_uri": "https://localhost:8080/"
        },
        "id": "_G6AzC7yYXSD",
        "outputId": "2c83dddc-fa58-419b-9461-98b80b302bf5"
      },
      "execution_count": 167,
      "outputs": [
        {
          "output_type": "stream",
          "name": "stdout",
          "text": [
            "(42000, 32, 32)\n",
            "(18000, 32, 32)\n",
            "(18000,)\n",
            "(42000,)\n"
          ]
        }
      ]
    },
    {
      "cell_type": "code",
      "source": [
        "f1.close"
      ],
      "metadata": {
        "colab": {
          "base_uri": "https://localhost:8080/"
        },
        "id": "MTYZSGFIZojI",
        "outputId": "b69d9ac1-4630-48b0-9d27-ed28939c89bb"
      },
      "execution_count": 168,
      "outputs": [
        {
          "output_type": "execute_result",
          "data": {
            "text/plain": [
              "<bound method File.close of <HDF5 file \"Autonomous_Vehicles_SVHN_single_grey1.h5\" (mode r)>>"
            ]
          },
          "metadata": {},
          "execution_count": 168
        }
      ]
    },
    {
      "cell_type": "markdown",
      "source": [
        "Part B - Q2 B - Visualise first 10 images in train data and print its corresponding labels"
      ],
      "metadata": {
        "id": "LlODOQUnRqXs"
      }
    },
    {
      "cell_type": "code",
      "source": [
        "%matplotlib inline\n",
        "import matplotlib.pyplot as plt\n",
        "plt.figure(figsize=(10, 1))\n",
        "for i in range(10):\n",
        "    plt.subplot(1, 10, i+1)\n",
        "    plt.imshow(X_train_svhn[i], cmap=\"gray\")\n",
        "    plt.axis('off')\n",
        "plt.show()\n",
        "print('label for each of the above image: %s' % (y_train[0:10]))"
      ],
      "metadata": {
        "colab": {
          "base_uri": "https://localhost:8080/",
          "height": 293
        },
        "id": "fHQcz24qb9zX",
        "outputId": "1130f358-483d-47aa-f683-4346375f877c"
      },
      "execution_count": 169,
      "outputs": [
        {
          "output_type": "display_data",
          "data": {
            "text/plain": [
              "<Figure size 1000x100 with 10 Axes>"
            ],
            "image/png": "[encoded data removed]"
          },
          "metadata": {}
        },
        {
          "output_type": "stream",
          "name": "stdout",
          "text": [
            "label for each of the above image: 1031    7\n",
            "844     6\n",
            "38      4\n",
            "1384    5\n",
            "611     5\n",
            "631     5\n",
            "7       7\n",
            "816     6\n",
            "1282    6\n",
            "1081    7\n",
            "Name: Signal_Strength, dtype: int64\n"
          ]
        }
      ]
    },
    {
      "cell_type": "markdown",
      "source": [
        "Part B - Q2 C -Reshape all the images with appropriate shape update the data in same variable."
      ],
      "metadata": {
        "id": "nCKC5543RuJ3"
      }
    },
    {
      "cell_type": "code",
      "source": [
        "image_vector_size = 32*32\n",
        "x_train_svhn = X_train_svhn.reshape(X_train_svhn.shape[0], image_vector_size)\n",
        "x_test_svhn = X_test_svhn.reshape(X_test_svhn.shape[0], image_vector_size)\n"
      ],
      "metadata": {
        "id": "IVCXiittjoFj"
      },
      "execution_count": 170,
      "outputs": []
    },
    {
      "cell_type": "markdown",
      "source": [
        "Part B - Q2 D - Normalise the images i.e. Normalise the pixel values."
      ],
      "metadata": {
        "id": "1Sns8l5sRxEi"
      }
    },
    {
      "cell_type": "code",
      "source": [
        "x_train_svhn = x_train_svhn.astype('float32')\n",
        "x_test_svhn = x_test_svhn.astype('float32')\n",
        "# # normalize inputs from 0-255 to 0-1\n",
        "x_train_svhn = x_train_svhn / 255.0\n",
        "x_test_svhn = x_test_svhn / 255.0\n",
        "\n",
        "print('Training set', x_train_svhn.shape, y_train_svhn.shape)\n",
        "print('Test set', x_test_svhn.shape, y_test_svhn.shape)"
      ],
      "metadata": {
        "colab": {
          "base_uri": "https://localhost:8080/"
        },
        "id": "5UagAx_ihznL",
        "outputId": "6febd18c-ec37-466e-99fb-62157c3c51a2"
      },
      "execution_count": 171,
      "outputs": [
        {
          "output_type": "stream",
          "name": "stdout",
          "text": [
            "Training set (42000, 1024) (42000,)\n",
            "Test set (18000, 1024) (18000,)\n"
          ]
        }
      ]
    },
    {
      "cell_type": "markdown",
      "source": [
        "Part B - Q2 E - Transform Labels into format acceptable by Neural Network"
      ],
      "metadata": {
        "id": "Bbc2rm5WR7H3"
      }
    },
    {
      "cell_type": "code",
      "source": [
        "from tensorflow.keras.utils import to_categorical\n",
        "y_train_svhn = to_categorical(y_train_svhn)\n",
        "y_test_svhn = to_categorical(y_test_svhn)"
      ],
      "metadata": {
        "id": "c7pABFytsLDO"
      },
      "execution_count": 172,
      "outputs": []
    },
    {
      "cell_type": "markdown",
      "source": [
        "Part B - Q2 F - Print total Number of classes in the Dataset."
      ],
      "metadata": {
        "id": "MIih6w-ER9G5"
      }
    },
    {
      "cell_type": "code",
      "source": [
        "num_classes_svhn = y_test_svhn.shape[1]\n",
        "num_classes_svhn"
      ],
      "metadata": {
        "colab": {
          "base_uri": "https://localhost:8080/"
        },
        "id": "Kt_kcXWWvwyP",
        "outputId": "ef8f55a4-6c21-4db9-e945-e6bedebed7eb"
      },
      "execution_count": 173,
      "outputs": [
        {
          "output_type": "execute_result",
          "data": {
            "text/plain": [
              "10"
            ]
          },
          "metadata": {},
          "execution_count": 173
        }
      ]
    },
    {
      "cell_type": "markdown",
      "source": [
        "Part B - Q3 A - Design a Neural Network to train a classifier."
      ],
      "metadata": {
        "id": "WhjzuI4tR_O4"
      }
    },
    {
      "cell_type": "code",
      "source": [
        "image_size=32*32\n",
        "\n",
        "model_svhn = Sequential()\n",
        "\n",
        "model_svhn.add(BatchNormalization(input_shape=(image_size,)))\n",
        "model_svhn.add(Dense(256, activation='relu'))\n",
        "model_svhn.add(Dense(64, activation='relu'))\n",
        "model_svhn.add(Dense(32, activation='relu'))\n",
        "model_svhn.add(Dense(num_classes_svhn, activation='softmax'))\n",
        "\n",
        "optimizer = tf.keras.optimizers.Adam(0.001)\n",
        "model_svhn.compile(loss= 'categorical_crossentropy', optimizer=optimizer, metrics=['accuracy'])\n",
        "\n",
        "model_svhn.summary()"
      ],
      "metadata": {
        "colab": {
          "base_uri": "https://localhost:8080/"
        },
        "id": "izOcnjidNNmH",
        "outputId": "0bc240ca-ed6f-4031-baa9-fd432926cc98"
      },
      "execution_count": 192,
      "outputs": [
        {
          "output_type": "stream",
          "name": "stdout",
          "text": [
            "Model: \"sequential_32\"\n",
            "_________________________________________________________________\n",
            " Layer (type)                Output Shape              Param #   \n",
            "=================================================================\n",
            " batch_normalization_7 (Bat  (None, 1024)              4096      \n",
            " chNormalization)                                                \n",
            "                                                                 \n",
            " dense_142 (Dense)           (None, 256)               262400    \n",
            "                                                                 \n",
            " dense_143 (Dense)           (None, 64)                16448     \n",
            "                                                                 \n",
            " dense_144 (Dense)           (None, 32)                2080      \n",
            "                                                                 \n",
            " dense_145 (Dense)           (None, 10)                330       \n",
            "                                                                 \n",
            "=================================================================\n",
            "Total params: 285354 (1.09 MB)\n",
            "Trainable params: 283306 (1.08 MB)\n",
            "Non-trainable params: 2048 (8.00 KB)\n",
            "_________________________________________________________________\n"
          ]
        }
      ]
    },
    {
      "cell_type": "markdown",
      "source": [
        "Part B - Q3 B - Train the classifier using previously designed Architecture (Use best suitable parameters)."
      ],
      "metadata": {
        "id": "lYOM3BfoSBK2"
      }
    },
    {
      "cell_type": "code",
      "source": [
        "history_svhn = model_svhn.fit(x_train_svhn,y_train_svhn,batch_size=200,epochs=40,verbose=1,validation_data=(x_test_svhn,y_test_svhn))"
      ],
      "metadata": {
        "colab": {
          "base_uri": "https://localhost:8080/"
        },
        "id": "OIIxS8CBA-AQ",
        "outputId": "2324c440-3089-4dad-f1de-846075bdc8e8"
      },
      "execution_count": 193,
      "outputs": [
        {
          "output_type": "stream",
          "name": "stdout",
          "text": [
            "Epoch 1/40\n",
            "210/210 [==============================] - 3s 12ms/step - loss: 1.5028 - accuracy: 0.5014 - val_loss: 1.2487 - val_accuracy: 0.6765\n",
            "Epoch 2/40\n",
            "210/210 [==============================] - 2s 11ms/step - loss: 0.9435 - accuracy: 0.7099 - val_loss: 0.8876 - val_accuracy: 0.7323\n",
            "Epoch 3/40\n",
            "210/210 [==============================] - 2s 10ms/step - loss: 0.7991 - accuracy: 0.7538 - val_loss: 0.7858 - val_accuracy: 0.7648\n",
            "Epoch 4/40\n",
            "210/210 [==============================] - 3s 14ms/step - loss: 0.7147 - accuracy: 0.7799 - val_loss: 0.7264 - val_accuracy: 0.7871\n",
            "Epoch 5/40\n",
            "210/210 [==============================] - 2s 12ms/step - loss: 0.6592 - accuracy: 0.7980 - val_loss: 0.7275 - val_accuracy: 0.7836\n",
            "Epoch 6/40\n",
            "210/210 [==============================] - 2s 11ms/step - loss: 0.6080 - accuracy: 0.8121 - val_loss: 0.6899 - val_accuracy: 0.7969\n",
            "Epoch 7/40\n",
            "210/210 [==============================] - 2s 10ms/step - loss: 0.5691 - accuracy: 0.8230 - val_loss: 0.6677 - val_accuracy: 0.8056\n",
            "Epoch 8/40\n",
            "210/210 [==============================] - 2s 11ms/step - loss: 0.5367 - accuracy: 0.8342 - val_loss: 0.6652 - val_accuracy: 0.8112\n",
            "Epoch 9/40\n",
            "210/210 [==============================] - 3s 12ms/step - loss: 0.5011 - accuracy: 0.8444 - val_loss: 0.6658 - val_accuracy: 0.8113\n",
            "Epoch 10/40\n",
            "210/210 [==============================] - 3s 13ms/step - loss: 0.4849 - accuracy: 0.8501 - val_loss: 0.6330 - val_accuracy: 0.8206\n",
            "Epoch 11/40\n",
            "210/210 [==============================] - 2s 10ms/step - loss: 0.4564 - accuracy: 0.8588 - val_loss: 0.6411 - val_accuracy: 0.8218\n",
            "Epoch 12/40\n",
            "210/210 [==============================] - 2s 11ms/step - loss: 0.4470 - accuracy: 0.8600 - val_loss: 0.6335 - val_accuracy: 0.8223\n",
            "Epoch 13/40\n",
            "210/210 [==============================] - 2s 11ms/step - loss: 0.4214 - accuracy: 0.8682 - val_loss: 0.6301 - val_accuracy: 0.8263\n",
            "Epoch 14/40\n",
            "210/210 [==============================] - 2s 11ms/step - loss: 0.4132 - accuracy: 0.8717 - val_loss: 0.6340 - val_accuracy: 0.8223\n",
            "Epoch 15/40\n",
            "210/210 [==============================] - 3s 15ms/step - loss: 0.3957 - accuracy: 0.8760 - val_loss: 0.6347 - val_accuracy: 0.8312\n",
            "Epoch 16/40\n",
            "210/210 [==============================] - 2s 11ms/step - loss: 0.3855 - accuracy: 0.8798 - val_loss: 0.6118 - val_accuracy: 0.8364\n",
            "Epoch 17/40\n",
            "210/210 [==============================] - 2s 11ms/step - loss: 0.3731 - accuracy: 0.8837 - val_loss: 0.6163 - val_accuracy: 0.8333\n",
            "Epoch 18/40\n",
            "210/210 [==============================] - 2s 10ms/step - loss: 0.3607 - accuracy: 0.8861 - val_loss: 0.6303 - val_accuracy: 0.8298\n",
            "Epoch 19/40\n",
            "210/210 [==============================] - 2s 11ms/step - loss: 0.3517 - accuracy: 0.8899 - val_loss: 0.6343 - val_accuracy: 0.8286\n",
            "Epoch 20/40\n",
            "210/210 [==============================] - 3s 14ms/step - loss: 0.3418 - accuracy: 0.8923 - val_loss: 0.6521 - val_accuracy: 0.8313\n",
            "Epoch 21/40\n",
            "210/210 [==============================] - 3s 12ms/step - loss: 0.3310 - accuracy: 0.8939 - val_loss: 0.6497 - val_accuracy: 0.8279\n",
            "Epoch 22/40\n",
            "210/210 [==============================] - 2s 11ms/step - loss: 0.3174 - accuracy: 0.8999 - val_loss: 0.6221 - val_accuracy: 0.8420\n",
            "Epoch 23/40\n",
            "210/210 [==============================] - 2s 11ms/step - loss: 0.3161 - accuracy: 0.9002 - val_loss: 0.6750 - val_accuracy: 0.8238\n",
            "Epoch 24/40\n",
            "210/210 [==============================] - 2s 10ms/step - loss: 0.3035 - accuracy: 0.9025 - val_loss: 0.6522 - val_accuracy: 0.8391\n",
            "Epoch 25/40\n",
            "210/210 [==============================] - 3s 12ms/step - loss: 0.2985 - accuracy: 0.9051 - val_loss: 0.6824 - val_accuracy: 0.8309\n",
            "Epoch 26/40\n",
            "210/210 [==============================] - 3s 13ms/step - loss: 0.3077 - accuracy: 0.9010 - val_loss: 0.6493 - val_accuracy: 0.8391\n",
            "Epoch 27/40\n",
            "210/210 [==============================] - 2s 11ms/step - loss: 0.2869 - accuracy: 0.9096 - val_loss: 0.6559 - val_accuracy: 0.8377\n",
            "Epoch 28/40\n",
            "210/210 [==============================] - 2s 11ms/step - loss: 0.2745 - accuracy: 0.9119 - val_loss: 0.6561 - val_accuracy: 0.8369\n",
            "Epoch 29/40\n",
            "210/210 [==============================] - 2s 11ms/step - loss: 0.2695 - accuracy: 0.9136 - val_loss: 0.6646 - val_accuracy: 0.8416\n",
            "Epoch 30/40\n",
            "210/210 [==============================] - 2s 10ms/step - loss: 0.2589 - accuracy: 0.9160 - val_loss: 0.6999 - val_accuracy: 0.8344\n",
            "Epoch 31/40\n",
            "210/210 [==============================] - 3s 15ms/step - loss: 0.2710 - accuracy: 0.9128 - val_loss: 0.6889 - val_accuracy: 0.8366\n",
            "Epoch 32/40\n",
            "210/210 [==============================] - 2s 11ms/step - loss: 0.2519 - accuracy: 0.9194 - val_loss: 0.6860 - val_accuracy: 0.8426\n",
            "Epoch 33/40\n",
            "210/210 [==============================] - 2s 11ms/step - loss: 0.2484 - accuracy: 0.9199 - val_loss: 0.6858 - val_accuracy: 0.8406\n",
            "Epoch 34/40\n",
            "210/210 [==============================] - 2s 11ms/step - loss: 0.2468 - accuracy: 0.9205 - val_loss: 0.6919 - val_accuracy: 0.8397\n",
            "Epoch 35/40\n",
            "210/210 [==============================] - 2s 11ms/step - loss: 0.2381 - accuracy: 0.9235 - val_loss: 0.6855 - val_accuracy: 0.8423\n",
            "Epoch 36/40\n",
            "210/210 [==============================] - 3s 13ms/step - loss: 0.2446 - accuracy: 0.9209 - val_loss: 0.6995 - val_accuracy: 0.8376\n",
            "Epoch 37/40\n",
            "210/210 [==============================] - 3s 12ms/step - loss: 0.2370 - accuracy: 0.9238 - val_loss: 0.7022 - val_accuracy: 0.8398\n",
            "Epoch 38/40\n",
            "210/210 [==============================] - 2s 11ms/step - loss: 0.2208 - accuracy: 0.9281 - val_loss: 0.7440 - val_accuracy: 0.8313\n",
            "Epoch 39/40\n",
            "210/210 [==============================] - 2s 10ms/step - loss: 0.2182 - accuracy: 0.9316 - val_loss: 0.7197 - val_accuracy: 0.8413\n",
            "Epoch 40/40\n",
            "210/210 [==============================] - 2s 11ms/step - loss: 0.2128 - accuracy: 0.9314 - val_loss: 0.7431 - val_accuracy: 0.8317\n"
          ]
        }
      ]
    },
    {
      "cell_type": "markdown",
      "source": [
        "Part B - Q3 C - Evaluate performance of the model with appropriate metrics."
      ],
      "metadata": {
        "id": "gZ1mfEgESEWu"
      }
    },
    {
      "cell_type": "code",
      "source": [
        "test_loss, test_acc = model_svhn.evaluate(x_test_svhn, y_test_svhn)\n",
        "print(f\"Test accuracy: {test_acc}\")"
      ],
      "metadata": {
        "colab": {
          "base_uri": "https://localhost:8080/"
        },
        "id": "8WxY0h0NAkz8",
        "outputId": "60af015b-b309-4282-99d4-5c1a8d3cf730"
      },
      "execution_count": 194,
      "outputs": [
        {
          "output_type": "stream",
          "name": "stdout",
          "text": [
            "563/563 [==============================] - 1s 2ms/step - loss: 0.7431 - accuracy: 0.8317\n",
            "Test accuracy: 0.8317221999168396\n"
          ]
        }
      ]
    },
    {
      "cell_type": "code",
      "source": [
        "y_pred_svhn=model_svhn.predict(x_test_svhn)"
      ],
      "metadata": {
        "colab": {
          "base_uri": "https://localhost:8080/"
        },
        "id": "UKo_dp_1AnOR",
        "outputId": "840c2b69-740b-41ff-d870-39efc7dc4724"
      },
      "execution_count": 195,
      "outputs": [
        {
          "output_type": "stream",
          "name": "stdout",
          "text": [
            "563/563 [==============================] - 1s 1ms/step\n"
          ]
        }
      ]
    },
    {
      "cell_type": "code",
      "source": [
        "y_pred_final=[]\n",
        "for i in y_pred_svhn:\n",
        "  y_pred_final.append(np.argmax(i))"
      ],
      "metadata": {
        "id": "N9ge3_aPfjue"
      },
      "execution_count": 196,
      "outputs": []
    },
    {
      "cell_type": "markdown",
      "source": [
        "Part B - Q3 D - Plot the training loss, validation loss vs number of epochs and training accuracy, validation accuracy vs number of epochs plot and write your observations on the same."
      ],
      "metadata": {
        "id": "QkTw3wfQSGbk"
      }
    },
    {
      "cell_type": "code",
      "source": [
        "# Capturing learning history per epoch\n",
        "hist_svhn  = pd.DataFrame(history_svhn.history)\n",
        "hist_svhn['epoch'] = history_svhn.epoch\n",
        "\n",
        "# Plotting accuracy at different epochs\n",
        "plt.plot(hist_svhn['loss'])\n",
        "plt.plot(hist_svhn['val_loss'])\n",
        "plt.legend((\"train\" , \"valid\") , loc =0)\n",
        "\n",
        "#Printing results\n",
        "results_svhn = model_svhn.evaluate(x_test_svhn, y_test_svhn)"
      ],
      "metadata": {
        "colab": {
          "base_uri": "https://localhost:8080/",
          "height": 447
        },
        "id": "WKtF2X4atxoH",
        "outputId": "b5713431-ff9c-419d-f3ea-a3e7335885ec"
      },
      "execution_count": 197,
      "outputs": [
        {
          "output_type": "stream",
          "name": "stdout",
          "text": [
            "563/563 [==============================] - 1s 2ms/step - loss: 0.7431 - accuracy: 0.8317\n"
          ]
        },
        {
          "output_type": "display_data",
          "data": {
            "text/plain": [
              "<Figure size 640x480 with 1 Axes>"
            ],
            "image/png": "[encoded data removed]"
          },
          "metadata": {}
        }
      ]
    },
    {
      "cell_type": "code",
      "source": [
        "# Plotting accuracy at different epochs\n",
        "plt.plot(history_svhn.history['accuracy'])\n",
        "plt.plot(history_svhn.history['val_accuracy'])\n",
        "plt.title('model_accuracy')\n",
        "plt.ylabel('accuracy')\n",
        "plt.xlabel('epoch')\n",
        "plt.legend((\"train\" , \"valid\") , loc ='best')\n",
        "plt.show()"
      ],
      "metadata": {
        "colab": {
          "base_uri": "https://localhost:8080/",
          "height": 472
        },
        "id": "zqck7tzGuM09",
        "outputId": "e5f0b079-68b7-4c3f-c9be-965f29789d16"
      },
      "execution_count": 198,
      "outputs": [
        {
          "output_type": "display_data",
          "data": {
            "text/plain": [
              "<Figure size 640x480 with 1 Axes>"
            ],
            "image/png": "[encoded data removed]"
          },
          "metadata": {}
        }
      ]
    },
    {
      "cell_type": "markdown",
      "source": [
        "We can see here accuracy of 84% on test data with loss of 0.6842. It is definitely a good performing model with room for improvement."
      ],
      "metadata": {
        "id": "d7u6n576tc99"
      }
    }
  ]
}